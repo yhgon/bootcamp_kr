{
 "cells": [
  {
   "cell_type": "markdown",
   "id": "3b91d21e-5bd0-4fd5-a283-270756bceebe",
   "metadata": {},
   "source": [
    "\n",
    "# NIMS-KISTI CWO GPU Bootcamp  2023 \n",
    "\n",
    " - date : 24 July  2023\n",
    " - location : KISTI @ Daejon\n",
    "\n",
    "<img src=\"https://logowik.com/content/uploads/images/nvidia3433.jpg\" width=400>\n"
   ]
  },
  {
   "cell_type": "markdown",
   "id": "5cc723c3-4172-40a9-9825-6a2513fd5335",
   "metadata": {},
   "source": [
    "## Contents \n",
    "- [Introduction FourCastNet ](./notebook/01_FCN.ipynb)\n",
    "- [JMA besttract dataset](notebook/02_JMA_besttrack.ipynb)\n",
    "- [ERA5 dataset overview](notebook/03_2_ERA5_viz.ipynb)\n",
    "- [ERA dataset download(CDSAPI), (optional) ](notebook/03_1_ERA5_downl(opt).ipynb)\n",
    "- [FCN pre-process ](notebook/04_1_FCN_prep.ipynb)\n",
    "- [FCN inference](notebook/04_2_FCN_inf.ipynb)\n",
    "- [FCN post-process](notebook/04_3_FCN_post.ipynb)\n",
    "\n"
   ]
  },
  {
   "cell_type": "code",
   "execution_count": null,
   "id": "40dcb519-5c8a-4f74-8c37-f86926725e8f",
   "metadata": {},
   "outputs": [],
   "source": []
  }
 ],
 "metadata": {
  "kernelspec": {
   "display_name": "Python 3 (ipykernel)",
   "language": "python",
   "name": "python3"
  },
  "language_info": {
   "codemirror_mode": {
    "name": "ipython",
    "version": 3
   },
   "file_extension": ".py",
   "mimetype": "text/x-python",
   "name": "python",
   "nbconvert_exporter": "python",
   "pygments_lexer": "ipython3",
   "version": "3.8.10"
  }
 },
 "nbformat": 4,
 "nbformat_minor": 5
}
