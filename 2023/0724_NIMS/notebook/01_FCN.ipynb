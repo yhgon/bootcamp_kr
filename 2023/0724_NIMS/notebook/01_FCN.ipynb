{
 "cells": [
  {
   "cell_type": "markdown",
   "id": "4d64fcd1-4121-431e-bff1-7b4713164757",
   "metadata": {},
   "source": [
    "# NIMS-KISTI-NVIDIA Hackathon \n",
    "\n",
    "# Problem Statement \n",
    "\n",
    "\n",
    "\n",
    "## Agenda \n",
    " - Introduction to FourCastNet\n",
    " - Configure FourCastNet\n",
    " - Typoon Dataset (JMA best track) \n",
    " - ECMWF ERA5 dataset(CDS API)\n",
    " - custom interval \n",
    " - inference \n",
    " - post processing \n",
    " \n",
    "\n",
    "\n"
   ]
  },
  {
   "cell_type": "markdown",
   "id": "da1e424b-8735-432f-b4e8-f5f8213ea644",
   "metadata": {},
   "source": [
    "\n",
    "\n",
    "## Introduction to FourCastNet\n",
    "\n",
    " - [FourCastNet Paper Link](https://arxiv.org/abs/2202.11214)\n",
    " - [GitHub Repository](https://github.com/NVlabs/FourCastNet)\n",
    " \n",
    "FourCastNet, short for Fourier ForeCasting Neural Network, is a global data-driven weather forecasting model that provides accurate short to medium range global predictions at 0.25° resolution.\n",
    "<div align=\"center\">\n",
    "\n",
    "<img src=\"https://github.com/NVlabs/FourCastNet/blob/master/assets/FourCastNet.gif?raw=true\">\n",
    "</div>\n",
    "\n",
    "\n"
   ]
  },
  {
   "cell_type": "markdown",
   "id": "69ebfcdf-dd00-467e-8bfd-f81b5c64f649",
   "metadata": {},
   "source": [
    "\n",
    "### FourCastNet Architecture :\n",
    "FourCastNet uses a Fourier transform-based token-mixing scheme with a vision transformer (ViT) backbone. This approach is based on the recent Fourier neural operator that learns in a resolution-invariant manner and has shown success in modeling challenging partial differential equations (PDE) such as fluid dynamics.\n",
    "\n",
    "\n",
    "<div align=\"center\">\n",
    "<img src=\"https://docscontent.nvidia.com/dims4/default/9c9b4d6/2147483647/strip/true/crop/1188x788+0+0/resize/1188x788!/quality/90/?url=https%3A%2F%2Fk3-prod-nvidia-docs.s3.amazonaws.com%2Fbrightspot%2Fsphinx%2F00000187-c443-dd05-a3bf-e57fb6480000%2Fdeeplearning%2Fmodulus%2Fmodulus-sym%2F_images%2Ffourcastnet_overview.png\" >\n",
    "\n",
    "</div>\n",
    "\n",
    " \n"
   ]
  },
  {
   "cell_type": "markdown",
   "id": "0f6d18b7-cebd-4297-a372-343b69b98a4d",
   "metadata": {},
   "source": [
    "### FourCastNet modeled variables:    \n",
    "| Vertical Level | Variable                |\n",
    "|:-------------- |:-----------------------|\n",
    "| Surface        | U10, V10, T2M, SP, MSLP |\n",
    "| 1000 hPa       | U, V, Z                |\n",
    "| 850 hPa        | T, U, V, Z, RH         |\n",
    "| 500 hPa        | T, U, V, Z, RH         |\n",
    "| 50 hPa         | Z                      |\n",
    "| Integrated     | TCWV                   |\n",
    " \n"
   ]
  },
  {
   "cell_type": "markdown",
   "id": "d3563bd5-0258-4109-8999-c3a9dc46156d",
   "metadata": {},
   "source": [
    "## copy model source code "
   ]
  },
  {
   "cell_type": "markdown",
   "id": "5cd9488c-3996-42f7-9df3-9a28311d5011",
   "metadata": {},
   "source": [
    "### install required modules for FourCastNet"
   ]
  },
  {
   "cell_type": "code",
   "execution_count": null,
   "id": "62adb38c-58e7-4896-8099-b12de6d7ed80",
   "metadata": {},
   "outputs": [],
   "source": [
    "! pip install wandb h5py mpi4py netCDF4 cdsapi  ruamel.yaml tqdm timm einops \n",
    "! pip install git+https://github.com/romerojosh/benchy.git\n",
    "! pip install cdsapi netcdf4 xarray"
   ]
  },
  {
   "cell_type": "markdown",
   "id": "0ffa86fa-0e66-4fe2-8f1d-da076a98ef3a",
   "metadata": {},
   "source": [
    "### copy FourCastNet source code "
   ]
  },
  {
   "cell_type": "code",
   "execution_count": null,
   "id": "eca93dec-ad84-4158-95cd-a4d9869a7dee",
   "metadata": {},
   "outputs": [],
   "source": [
    "!git clone https://github.com/NVlabs/FourCastNet.git"
   ]
  },
  {
   "cell_type": "markdown",
   "id": "fc5a695c-cc80-44f2-9fb8-e31f659799b2",
   "metadata": {},
   "source": [
    "## download checkpoint and stat0\n",
    "\n",
    "The model weights hosted at Trained Model Weights :\n",
    "\n",
    "```\n",
    "FCN_weights_v0/\n",
    "│   backbone.ckpt  \n",
    "│   precip.ckpt  \n",
    "```\n",
    "\n",
    "The pre-computed normalization statistics hosted at additional. It is crucial that you use the statistics that are provided if you are using the pre-trained model weights that we have provided since these stats were used when trainig the model. The normalization statistics go hand-in-hand with the trained model weights. The stats folder contains:\n",
    "\n",
    "\n",
    "```\n",
    "stats_v0\n",
    "│   global_means.npy  \n",
    "│   global_stds.npy  \n",
    "│   land_sea_mask.npy  \n",
    "│   latitude.npy  \n",
    "│   longitude.npy  \n",
    "│   time_means.npy\n",
    "│   time_means_daily.h5\n",
    "```\n"
   ]
  },
  {
   "cell_type": "code",
   "execution_count": null,
   "id": "9624fc86-8497-411a-b860-966b4825bb4b",
   "metadata": {},
   "outputs": [],
   "source": [
    "%%time \n",
    "!wget -N -P FCN_weights_v0          https://portal.nersc.gov/project/m4134/FCN_weights_v0/backbone.ckpt \n",
    "#!wget -N -P FCN_weights_v0         https://portal.nersc.gov/project/m4134/FCN_weights_v0/precip.ckpt               \n",
    "!wget -N -P FCN_weights_v0/stats_v0 https://portal.nersc.gov/project/m4134/FCN_weights_v0/stats_v0/global_means.npy \n",
    "!wget -N -P FCN_weights_v0/stats_v0 https://portal.nersc.gov/project/m4134/FCN_weights_v0/stats_v0/global_stds.npy  \n",
    "!wget -N -P FCN_weights_v0/stats_v0 https://portal.nersc.gov/project/m4134/FCN_weights_v0/stats_v0/land_sea_mask.npy\n",
    "!wget -N -P FCN_weights_v0/stats_v0 https://portal.nersc.gov/project/m4134/FCN_weights_v0/stats_v0/latitude.npy    \n",
    "!wget -N -P FCN_weights_v0/stats_v0 https://portal.nersc.gov/project/m4134/FCN_weights_v0/stats_v0/longitude.npy    \n",
    "!wget -N -P FCN_weights_v0/stats_v0 https://portal.nersc.gov/project/m4134/FCN_weights_v0/stats_v0/time_means.npy   "
   ]
  },
  {
   "cell_type": "code",
   "execution_count": null,
   "id": "b1c2dd15-8be7-4d51-a13e-805eb7fb5b47",
   "metadata": {},
   "outputs": [],
   "source": [
    " "
   ]
  }
 ],
 "metadata": {
  "kernelspec": {
   "display_name": "Python 3 (ipykernel)",
   "language": "python",
   "name": "python3"
  },
  "language_info": {
   "codemirror_mode": {
    "name": "ipython",
    "version": 3
   },
   "file_extension": ".py",
   "mimetype": "text/x-python",
   "name": "python",
   "nbconvert_exporter": "python",
   "pygments_lexer": "ipython3",
   "version": "3.8.10"
  }
 },
 "nbformat": 4,
 "nbformat_minor": 5
}
