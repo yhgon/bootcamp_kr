{
 "cells": [
  {
   "cell_type": "markdown",
   "id": "4d64fcd1-4121-431e-bff1-7b4713164757",
   "metadata": {},
   "source": [
    "# NIMS-KISTI-NVIDIA Hackathon \n",
    "\n",
    "# Problem Statement \n",
    "\n",
    "\n",
    "\n",
    "## Agenda \n",
    " - Introduction to FourCastNet\n",
    " - Configure FourCastNet\n",
    " - Typoon Dataset (JMA best track) \n",
    " - ECMWF ERA5 dataset(CDS API)\n",
    " - custom interval \n",
    " - inference \n",
    " - post processing \n",
    " \n",
    "\n",
    "\n"
   ]
  },
  {
   "cell_type": "markdown",
   "id": "da1e424b-8735-432f-b4e8-f5f8213ea644",
   "metadata": {},
   "source": [
    "\n",
    "\n",
    "## Introduction to FourCastNet\n",
    "\n",
    " - [FourCastNet Paper Link](https://arxiv.org/abs/2202.11214)\n",
    " - [GitHub Repository](https://github.com/NVlabs/FourCastNet)\n",
    " \n",
    "FourCastNet, short for Fourier ForeCasting Neural Network, is a global data-driven weather forecasting model that provides accurate short to medium range global predictions at 0.25° resolution.\n",
    "<div align=\"center\">\n",
    "\n",
    "<img src=\"https://github.com/NVlabs/FourCastNet/blob/master/assets/FourCastNet.gif?raw=true\">\n",
    "</div>\n",
    "\n",
    "\n"
   ]
  },
  {
   "cell_type": "markdown",
   "id": "69ebfcdf-dd00-467e-8bfd-f81b5c64f649",
   "metadata": {},
   "source": [
    "\n",
    "### FourCastNet Architecture :\n",
    "FourCastNet uses a Fourier transform-based token-mixing scheme with a vision transformer (ViT) backbone. This approach is based on the recent Fourier neural operator that learns in a resolution-invariant manner and has shown success in modeling challenging partial differential equations (PDE) such as fluid dynamics.\n",
    "\n",
    "\n",
    "<div align=\"center\">\n",
    "<img src=\"https://docscontent.nvidia.com/dims4/default/9c9b4d6/2147483647/strip/true/crop/1188x788+0+0/resize/1188x788!/quality/90/?url=https%3A%2F%2Fk3-prod-nvidia-docs.s3.amazonaws.com%2Fbrightspot%2Fsphinx%2F00000187-c443-dd05-a3bf-e57fb6480000%2Fdeeplearning%2Fmodulus%2Fmodulus-sym%2F_images%2Ffourcastnet_overview.png\" >\n",
    "\n",
    "</div>\n",
    "\n",
    " \n"
   ]
  },
  {
   "cell_type": "markdown",
   "id": "0f6d18b7-cebd-4297-a372-343b69b98a4d",
   "metadata": {},
   "source": [
    "### FourCastNet modeled variables:    \n",
    "| Vertical Level | Variable                |\n",
    "|:-------------- |:-----------------------|\n",
    "| Surface        | U10, V10, T2M, SP, MSLP |\n",
    "| 1000 hPa       | U, V, Z                |\n",
    "| 850 hPa        | T, U, V, Z, RH         |\n",
    "| 500 hPa        | T, U, V, Z, RH         |\n",
    "| 50 hPa         | Z                      |\n",
    "| Integrated     | TCWV                   |\n",
    " \n"
   ]
  },
  {
   "cell_type": "markdown",
   "id": "d3563bd5-0258-4109-8999-c3a9dc46156d",
   "metadata": {},
   "source": [
    "## copy model source code \n",
    "\n",
    "### FourCastNet source code \n",
    "- [NVIDIA NVlabs (official) ](https://github.com/NVlabs/FourCastNet)\n",
    "- [NVIDIA Modulus ](https://gitlab.com/nvidia/modulus/examples/-/tree/release_22.07/fourcastnet)\n",
    "- [community code OpenCastKit](https://github.com/HFAiLab/OpenCastKit)\n",
    "- [community code ECMWF ai-models](https://github.com/ecmwf-lab/ai-models)\n"
   ]
  },
  {
   "cell_type": "markdown",
   "id": "5cd9488c-3996-42f7-9df3-9a28311d5011",
   "metadata": {},
   "source": [
    "### install required modules for FourCastNet"
   ]
  },
  {
   "cell_type": "code",
   "execution_count": null,
   "id": "62adb38c-58e7-4896-8099-b12de6d7ed80",
   "metadata": {},
   "outputs": [],
   "source": [
    "! pip install wandb h5py mpi4py netCDF4 cdsapi  ruamel.yaml tqdm timm einops \n",
    "! pip install git+https://github.com/romerojosh/benchy.git\n",
    "! pip install cdsapi netcdf4 xarray"
   ]
  },
  {
   "cell_type": "markdown",
   "id": "0ffa86fa-0e66-4fe2-8f1d-da076a98ef3a",
   "metadata": {},
   "source": [
    "### copy FourCastNet source code "
   ]
  },
  {
   "cell_type": "code",
   "execution_count": null,
   "id": "eca93dec-ad84-4158-95cd-a4d9869a7dee",
   "metadata": {},
   "outputs": [],
   "source": [
    "!git clone https://github.com/NVlabs/FourCastNet.git"
   ]
  },
  {
   "cell_type": "code",
   "execution_count": null,
   "id": "2a839963-45dd-497e-8dae-3b1210d49614",
   "metadata": {},
   "outputs": [],
   "source": [
    "!unzip FCN_Omni.zip"
   ]
  },
  {
   "cell_type": "markdown",
   "id": "fc5a695c-cc80-44f2-9fb8-e31f659799b2",
   "metadata": {},
   "source": [
    "## download checkpoint and stat0\n",
    "\n",
    "The model weights hosted at Trained Model Weights :\n",
    "\n",
    "```\n",
    "FCN_weights_v0/\n",
    "│   backbone.ckpt  \n",
    "│   precip.ckpt  \n",
    "```\n",
    "\n",
    "The pre-computed normalization statistics hosted at additional. It is crucial that you use the statistics that are provided if you are using the pre-trained model weights that we have provided since these stats were used when trainig the model. The normalization statistics go hand-in-hand with the trained model weights. The stats folder contains:\n",
    "\n",
    "\n",
    "```\n",
    "stats_v0\n",
    "│   global_means.npy  \n",
    "│   global_stds.npy  \n",
    "│   land_sea_mask.npy  \n",
    "│   latitude.npy  \n",
    "│   longitude.npy  \n",
    "│   time_means.npy\n",
    "│   time_means_daily.h5\n",
    "```\n"
   ]
  },
  {
   "cell_type": "code",
   "execution_count": null,
   "id": "9624fc86-8497-411a-b860-966b4825bb4b",
   "metadata": {},
   "outputs": [],
   "source": [
    "%%time \n",
    "!wget -N -P FCN_weights_v0          https://portal.nersc.gov/project/m4134/FCN_weights_v0/backbone.ckpt \n",
    "#!wget -N -P FCN_weights_v0         https://portal.nersc.gov/project/m4134/FCN_weights_v0/precip.ckpt               \n",
    "!wget -N -P FCN_weights_v0/stats_v0 https://portal.nersc.gov/project/m4134/FCN_weights_v0/stats_v0/global_means.npy \n",
    "!wget -N -P FCN_weights_v0/stats_v0 https://portal.nersc.gov/project/m4134/FCN_weights_v0/stats_v0/global_stds.npy  \n",
    "!wget -N -P FCN_weights_v0/stats_v0 https://portal.nersc.gov/project/m4134/FCN_weights_v0/stats_v0/land_sea_mask.npy\n",
    "!wget -N -P FCN_weights_v0/stats_v0 https://portal.nersc.gov/project/m4134/FCN_weights_v0/stats_v0/latitude.npy    \n",
    "!wget -N -P FCN_weights_v0/stats_v0 https://portal.nersc.gov/project/m4134/FCN_weights_v0/stats_v0/longitude.npy    \n",
    "!wget -N -P FCN_weights_v0/stats_v0 https://portal.nersc.gov/project/m4134/FCN_weights_v0/stats_v0/time_means.npy   "
   ]
  },
  {
   "cell_type": "markdown",
   "id": "ea687264-c103-4e65-abc6-5c0e10e91b15",
   "metadata": {},
   "source": [
    "# Typoon Dataset\n",
    "\n",
    "### get typoon data with JMA Besttrack(~2022)"
   ]
  },
  {
   "cell_type": "markdown",
   "id": "eb50dbfe-bf18-4d07-931a-97642063f4f5",
   "metadata": {},
   "source": [
    "## download dataset with CDS API \n",
    "\n",
    "FourCastNet modeled variables\n",
    "<table align=\"left\" border=\"1\">\n",
    "  <tr>\n",
    "    <th>Vertical Level</th>\n",
    "    <th>Variable</th>\n",
    "  </tr>\n",
    "  <tr>\n",
    "    <td>Surface</td>\n",
    "    <td>U10, V10, T2M, SP, MSLP</td>\n",
    "  </tr>\n",
    "  <tr>\n",
    "    <td>1000 hPa</td>\n",
    "    <td>U, V, Z</td>\n",
    "  </tr>\n",
    "  <tr>\n",
    "    <td>850 hPa</td>\n",
    "    <td>T, U, V, Z, RH</td>\n",
    "  </tr>\n",
    "  <tr>\n",
    "    <td>500 hPa</td>\n",
    "    <td>T, U, V, Z, RH</td>\n",
    "  </tr>\n",
    "  <tr>\n",
    "    <td>50 hPa</td>\n",
    "    <td>Z</td>\n",
    "  </tr>\n",
    "  <tr>\n",
    "    <td>Integrated</td>\n",
    "    <td>TCWV</td>\n",
    "  </tr>\n",
    "</table>\n",
    "\n"
   ]
  },
  {
   "cell_type": "markdown",
   "id": "751be69f-ca25-4fa5-bd43-918117c17f12",
   "metadata": {},
   "source": []
  },
  {
   "cell_type": "code",
   "execution_count": null,
   "id": "33845b59-7de5-449a-aa3f-8ba838ac5769",
   "metadata": {},
   "outputs": [],
   "source": []
  },
  {
   "cell_type": "markdown",
   "id": "6f76543a-e01d-4f7e-a574-78cad3589405",
   "metadata": {},
   "source": [
    "# Data conversion ( NetCDF4 to HDF5)"
   ]
  },
  {
   "cell_type": "markdown",
   "id": "c27a80fd-a4ad-4274-ba22-7c0e2833bf1b",
   "metadata": {},
   "source": [
    "## pytorch data loader \n",
    "- ECMWF ERA5 dataset : multiple NetCDF4\n",
    "  - SL : variables(5)  x H(721) x W(1440)\n",
    "  - PL : presure levels(4) x variables(4) x H(721) x W(1440)\n",
    "  - eliminate lat/lon data (same for whole datasets) \n",
    "- Pytorch DataLoader : HDF5 data ( structured data) \n",
    "  - time_frame x variables(20) x H(721) x W(1440)\n",
    "  "
   ]
  },
  {
   "cell_type": "markdown",
   "id": "495b1a2a-f5b8-442e-a24f-9a6db9ac698c",
   "metadata": {},
   "source": [
    "## modify confi yamlfile\n",
    "\n",
    "[config/AFNO.yaml ](./FCN/config/AFNO.yaml)\n",
    "\n",
    "for inference \n",
    "\n",
    "```\n",
    "\n",
    "  prediction_length: 32 #applicable only if prediction_type == 'iterative'    ############# TODO  for inference 6hr x 4 interval  x 8 day   = 32 hr\n",
    "  \n",
    "  inf_data_path: 'hdf5_dir' ############# TODO  test set path for inference  \n",
    "  exp_dir: '../FCN_output/ex01'   ############ TODO  overwrite it with same filename\n",
    "  \n",
    "  time_means_path:   '../FCN_weights_v0/stats_v0/time_means.npy' ############# TODO  for inference\n",
    "  global_means_path: '../FCN_weights_v0/stats_v0/global_means.npy' ############# TODO    for inference\n",
    "  global_stds_path:  '../FCN_weights_v0/stats_v0/global_stds.npy' ############# TODO   for inference\n",
    "  \n",
    "```\n"
   ]
  },
  {
   "cell_type": "code",
   "execution_count": null,
   "id": "4044bd68-a108-4720-9e07-450611e8cf2d",
   "metadata": {},
   "outputs": [],
   "source": [
    "!cd FCN && python3 inference/inference.py \\\n",
    "        --vis --config=afno_backbone --run_num=0 \\\n",
    "        --weights \"/mnt/workspace/nims/notebooks/FCN_weights_v0/backbone.ckpt\" \\\n",
    "        --override_dir \"/mnt/workspace/nims/notebooks/FCN_output\""
   ]
  },
  {
   "cell_type": "code",
   "execution_count": null,
   "id": "c3a2249c-7c36-4464-a080-d6581eadf90c",
   "metadata": {},
   "outputs": [],
   "source": [
    "!ls -lah FCN_output"
   ]
  },
  {
   "cell_type": "code",
   "execution_count": null,
   "id": "01f141c3-46c5-408b-a54c-212574854ff1",
   "metadata": {},
   "outputs": [],
   "source": []
  }
 ],
 "metadata": {
  "kernelspec": {
   "display_name": "Python 3 (ipykernel)",
   "language": "python",
   "name": "python3"
  },
  "language_info": {
   "codemirror_mode": {
    "name": "ipython",
    "version": 3
   },
   "file_extension": ".py",
   "mimetype": "text/x-python",
   "name": "python",
   "nbconvert_exporter": "python",
   "pygments_lexer": "ipython3",
   "version": "3.8.10"
  }
 },
 "nbformat": 4,
 "nbformat_minor": 5
}
