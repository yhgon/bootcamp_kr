{
 "cells": [
  {
   "cell_type": "markdown",
   "id": "4d64fcd1-4121-431e-bff1-7b4713164757",
   "metadata": {},
   "source": [
    "# NIMS-KISTI-NVIDIA Hackathon \n",
    "\n",
    "# Problem Statement \n",
    "\n",
    "\n",
    "\n",
    "## Agenda \n",
    " - Introduction to FourCastNet\n",
    " - Configure FourCastNet\n",
    " - Typoon Dataset (JMA best track) \n",
    " - ECMWF ERA5 dataset(CDS API)\n",
    " - custom interval \n",
    " - inference \n",
    " - post processing \n",
    " \n",
    "\n",
    "\n"
   ]
  },
  {
   "cell_type": "markdown",
   "id": "da1e424b-8735-432f-b4e8-f5f8213ea644",
   "metadata": {},
   "source": [
    "\n",
    "\n",
    "## Introduction to FourCastNet\n",
    "\n",
    " - [FourCastNet Paper Link](https://arxiv.org/abs/2202.11214)\n",
    " - [GitHub Repository](https://github.com/NVlabs/FourCastNet)\n",
    " \n",
    "FourCastNet, short for Fourier ForeCasting Neural Network, is a global data-driven weather forecasting model that provides accurate short to medium range global predictions at 0.25° resolution.\n",
    "<div align=\"center\">\n",
    "\n",
    "<img src=\"https://github.com/NVlabs/FourCastNet/blob/master/assets/FourCastNet.gif?raw=true\">\n",
    "</div>\n",
    "\n",
    "\n"
   ]
  },
  {
   "cell_type": "markdown",
   "id": "69ebfcdf-dd00-467e-8bfd-f81b5c64f649",
   "metadata": {},
   "source": [
    "\n",
    "### FourCastNet Architecture :\n",
    "FourCastNet uses a Fourier transform-based token-mixing scheme with a vision transformer (ViT) backbone. This approach is based on the recent Fourier neural operator that learns in a resolution-invariant manner and has shown success in modeling challenging partial differential equations (PDE) such as fluid dynamics.\n",
    "\n",
    "\n",
    "<div align=\"center\">\n",
    "<img src=\"https://docscontent.nvidia.com/dims4/default/9c9b4d6/2147483647/strip/true/crop/1188x788+0+0/resize/1188x788!/quality/90/?url=https%3A%2F%2Fk3-prod-nvidia-docs.s3.amazonaws.com%2Fbrightspot%2Fsphinx%2F00000187-c443-dd05-a3bf-e57fb6480000%2Fdeeplearning%2Fmodulus%2Fmodulus-sym%2F_images%2Ffourcastnet_overview.png\" >\n",
    "\n",
    "</div>\n",
    "\n",
    " \n"
   ]
  },
  {
   "cell_type": "markdown",
   "id": "0f6d18b7-cebd-4297-a372-343b69b98a4d",
   "metadata": {},
   "source": [
    "### FourCastNet modeled variables:    \n",
    "| Vertical Level | Variable                |\n",
    "|:-------------- |:-----------------------|\n",
    "| Surface        | U10, V10, T2M, SP, MSLP |\n",
    "| 1000 hPa       | U, V, Z                |\n",
    "| 850 hPa        | T, U, V, Z, RH         |\n",
    "| 500 hPa        | T, U, V, Z, RH         |\n",
    "| 50 hPa         | Z                      |\n",
    "| Integrated     | TCWV                   |\n",
    " \n"
   ]
  },
  {
   "cell_type": "markdown",
   "id": "d3563bd5-0258-4109-8999-c3a9dc46156d",
   "metadata": {},
   "source": [
    "## copy model source code "
   ]
  },
  {
   "cell_type": "markdown",
   "id": "5cd9488c-3996-42f7-9df3-9a28311d5011",
   "metadata": {},
   "source": [
    "### install required modules for FourCastNet"
   ]
  },
  {
   "cell_type": "markdown",
   "id": "eb50dbfe-bf18-4d07-931a-97642063f4f5",
   "metadata": {},
   "source": [
    "## download dataset with CDS API \n",
    "\n",
    "FourCastNet modeled variables\n",
    "<table align=\"left\" border=\"1\">\n",
    "  <tr>\n",
    "    <th>Vertical Level</th>\n",
    "    <th>Variable</th>\n",
    "  </tr>\n",
    "  <tr>\n",
    "    <td>Surface</td>\n",
    "    <td>U10, V10, T2M, SP, MSLP</td>\n",
    "  </tr>\n",
    "  <tr>\n",
    "    <td>1000 hPa</td>\n",
    "    <td>U, V, Z</td>\n",
    "  </tr>\n",
    "  <tr>\n",
    "    <td>850 hPa</td>\n",
    "    <td>T, U, V, Z, RH</td>\n",
    "  </tr>\n",
    "  <tr>\n",
    "    <td>500 hPa</td>\n",
    "    <td>T, U, V, Z, RH</td>\n",
    "  </tr>\n",
    "  <tr>\n",
    "    <td>50 hPa</td>\n",
    "    <td>Z</td>\n",
    "  </tr>\n",
    "  <tr>\n",
    "    <td>Integrated</td>\n",
    "    <td>TCWV</td>\n",
    "  </tr>\n",
    "</table>\n",
    "\n"
   ]
  },
  {
   "cell_type": "markdown",
   "id": "751be69f-ca25-4fa5-bd43-918117c17f12",
   "metadata": {},
   "source": []
  },
  {
   "cell_type": "markdown",
   "id": "7bcdcb17-0fe9-4ac6-a16e-1896b28870a0",
   "metadata": {},
   "source": [
    "# visualize"
   ]
  },
  {
   "cell_type": "code",
   "execution_count": null,
   "id": "2014879c-fdfc-4fde-a777-bd320583d137",
   "metadata": {},
   "outputs": [],
   "source": [
    "!ls -lah FCN_output"
   ]
  },
  {
   "cell_type": "code",
   "execution_count": null,
   "id": "0badea16-1d79-4111-b28f-9c61733ac15f",
   "metadata": {},
   "outputs": [],
   "source": [
    "h5_gt_filename = '/mnt/workspace/nims/notebooks/hdf5_dir/merged_01_2214_2022091212_2022092000.h5'\n",
    "h5_pred_filename = '/mnt/workspace/nims/notebooks/FCN_output/autoregressive_predictions_z500_vis.h5'"
   ]
  },
  {
   "cell_type": "code",
   "execution_count": null,
   "id": "210671da-39be-43f3-9810-db3de2047c18",
   "metadata": {},
   "outputs": [],
   "source": [
    "import h5py\n",
    "import matplotlib.pyplot as plt\n",
    "from matplotlib.animation import FuncAnimation\n",
    "\n",
    "def get_variable(file_path, variable_name):\n",
    "    hdf5_file = h5py.File(file_path, 'r')\n",
    "    variable = hdf5_file[variable_name][:]\n",
    "    hdf5_file.close()\n",
    "    return variable\n",
    "\n",
    "def plot_variable(variable, frame_index, variable_index):\n",
    "    variable_names = ['u10', 'v10', 't2m', 'sp', 'msl', 't850', 'u1000', 'v1000', 'z1000', 'u850', 'v850', 'z850', 'u500', 'v500', 'z500', 't500', 'z50', 'r500', 'r850', 'tcwv']\n",
    "    vmin_values = [-30, -30, 220, None, None, 220, -30, -30, None, -30, -30, None, -30, -30, None, 220, None, 0, None, None]\n",
    "    vmax_values = [30, 30, 300, None, None, 300, 30, 30, None, 30, 30, None, 30, 30, None, 270, None, 120, None, None]\n",
    "    cmaps = [None, None, 'coolwarm', None, None, 'coolwarm', None, None, None, None, None, None, None, None, None, 'coolwarm', None, None, None, None]\n",
    "\n",
    "    variable_name = variable_names[variable_index]\n",
    "    vmin = vmin_values[variable_index]\n",
    "    vmax = vmax_values[variable_index]\n",
    "    cmap = cmaps[variable_index]\n",
    "\n",
    "    plt.figure(figsize=(8, 4))\n",
    "\n",
    "    if vmin is not None and vmax is not None:\n",
    "        plt.imshow(variable[frame_index][variable_index], vmin=vmin, vmax=vmax, cmap=cmap)\n",
    "    else:\n",
    "        plt.imshow(variable[frame_index][variable_index], cmap=cmap)\n",
    "\n",
    "    plt.colorbar(shrink=0.75)\n",
    "    plt.title(f\"Variable {variable_name} at Frame {frame_index}\")\n",
    "    plt.show()\n",
    "\n"
   ]
  },
  {
   "cell_type": "code",
   "execution_count": null,
   "id": "326974c2-080a-4207-b568-aa5aaaf0a230",
   "metadata": {},
   "outputs": [],
   "source": [
    "gt_variables = get_variable(h5_gt_filename, 'fields' )"
   ]
  },
  {
   "cell_type": "code",
   "execution_count": null,
   "id": "2253f922-43ce-4720-9471-1a1c122ef0f5",
   "metadata": {},
   "outputs": [],
   "source": [
    "gt_variables.shape"
   ]
  },
  {
   "cell_type": "code",
   "execution_count": null,
   "id": "f1917c9f-1175-4101-ae5e-fb28aead6ba6",
   "metadata": {},
   "outputs": [],
   "source": [
    "# Plot the variable for a specific frame and variable index\n",
    "frame_index = 16  # Replace with the desired frame index\n",
    "variable_index = 4 # Replace with the desired variable index\n",
    "plot_variable(gt_variables, frame_index, variable_index)"
   ]
  },
  {
   "cell_type": "code",
   "execution_count": null,
   "id": "e0acf540-f87b-44a2-8b92-d8c01586bfc6",
   "metadata": {},
   "outputs": [],
   "source": [
    "pred_variables = get_variable(h5_pred_filename, 'predicted' )"
   ]
  },
  {
   "cell_type": "code",
   "execution_count": null,
   "id": "c9e4dab5-12bb-45b4-aa68-3cf8af60a1fe",
   "metadata": {},
   "outputs": [],
   "source": [
    "pred_variables.shape"
   ]
  },
  {
   "cell_type": "code",
   "execution_count": null,
   "id": "2d5734c1-f56a-412a-860b-d73b034ee252",
   "metadata": {},
   "outputs": [],
   "source": [
    "# Plot the variable for a specific frame and variable index\n",
    "frame_index = 16  # Replace with the desired frame index\n",
    "variable_index = 4  # Replace with the desired variable index\n",
    "plot_variable(pred_variables[0], frame_index, variable_index)"
   ]
  },
  {
   "cell_type": "markdown",
   "id": "89a7c782-4a5a-4af5-9322-e2f23198b459",
   "metadata": {},
   "source": [
    "### TODO denormalize \n"
   ]
  },
  {
   "cell_type": "code",
   "execution_count": null,
   "id": "e1de9573-29f5-4964-8586-214651ee201e",
   "metadata": {},
   "outputs": [],
   "source": [
    "gm_file = '/mnt/workspace/nims/notebooks/FCN_weights_v0/stats_v0/global_means.npy'\n",
    "gs_file = '/mnt/workspace/nims/notebooks/FCN_weights_v0/stats_v0/global_stds.npy'\n",
    "tm_file = '/mnt/workspace/nims/notebooks/FCN_weights_v0/stats_v0/time_means.npy'"
   ]
  },
  {
   "cell_type": "code",
   "execution_count": null,
   "id": "6dbed0f5-83e7-4835-8838-2069bbb24e84",
   "metadata": {},
   "outputs": [],
   "source": [
    "import numpy as np \n",
    "gm_value = np.load(gm_file)\n",
    "gs_value = np.load(gs_file)\n",
    "tm_value = np.load(tm_file)"
   ]
  },
  {
   "cell_type": "code",
   "execution_count": null,
   "id": "9ff081de-d253-43f2-be42-e70b2ebcccf9",
   "metadata": {},
   "outputs": [],
   "source": [
    "print(gm_value.shape, gs_value.shape, tm_value.shape)"
   ]
  },
  {
   "cell_type": "code",
   "execution_count": null,
   "id": "c1746444-3605-4f8c-a2eb-e67152c7b4a6",
   "metadata": {},
   "outputs": [],
   "source": [
    "def normalize_gt(gt, global_means, global_stds):\n",
    "    normalized_gt = (gt - global_means) / global_stds\n",
    "    return normalized_gt\n",
    "\n",
    "def denormalize_pred(pred, global_means, global_stds):\n",
    "    denormalized_pred = pred * global_stds + global_means\n",
    "    return denormalized_pred"
   ]
  },
  {
   "cell_type": "markdown",
   "id": "2a884955-3f4d-4cf9-a79d-a5f37e94ef31",
   "metadata": {},
   "source": [
    "## gt values"
   ]
  },
  {
   "cell_type": "code",
   "execution_count": null,
   "id": "4d495445-9c85-4d85-b071-e05610f49989",
   "metadata": {},
   "outputs": [],
   "source": [
    "normalized_gt_variables = normalize_gt(gt_variables, gm_value[:,:20,:,:], gs_value[:,:20,:,:])\n",
    "print(gt_variables.shape, normalized_gt_variables.shape)"
   ]
  },
  {
   "cell_type": "code",
   "execution_count": null,
   "id": "dab4fd45-7328-4d58-9f5b-389417be7e89",
   "metadata": {},
   "outputs": [],
   "source": [
    "# Plot the variable for a specific frame and variable index\n",
    "frame_index = 16  # Replace with the desired frame index\n",
    "variable_index = 4  # Replace with the desired variable index\n",
    "plot_variable(normalized_gt_variables , frame_index, variable_index)"
   ]
  },
  {
   "cell_type": "code",
   "execution_count": null,
   "id": "f856ea5b-2270-4847-a2b1-3c6cddfe4d02",
   "metadata": {},
   "outputs": [],
   "source": [
    "# Plot the variable for a specific frame and variable index\n",
    "frame_index = 16  # Replace with the desired frame index\n",
    "variable_index = 4  # Replace with the desired variable index\n",
    "plot_variable(pred_variables[0], frame_index, variable_index)"
   ]
  },
  {
   "cell_type": "markdown",
   "id": "e8f19043-c1c6-47bb-8581-14cc3a502d18",
   "metadata": {},
   "source": [
    "## predict"
   ]
  },
  {
   "cell_type": "code",
   "execution_count": null,
   "id": "45e2c476-176d-46e5-8b58-885dad478d62",
   "metadata": {},
   "outputs": [],
   "source": [
    "denormalized_pred_variables = denormalize_pred(pred_variables, gm_value[:,:20,:,:], gs_value[:,:20,:,:])\n",
    "print(pred_variables.shape, denormalized_pred_variables.shape)"
   ]
  },
  {
   "cell_type": "code",
   "execution_count": null,
   "id": "6217fce4-3647-483d-9a82-934b114e0563",
   "metadata": {},
   "outputs": [],
   "source": [
    "# Plot the variable for a specific frame and variable index\n",
    "frame_index = 16  # Replace with the desired frame index\n",
    "variable_index = 4  # Replace with the desired variable index\n",
    "plot_variable(pred_variables[0], frame_index, variable_index)"
   ]
  },
  {
   "cell_type": "code",
   "execution_count": null,
   "id": "33b7f5ad-04a9-450c-9ff7-99b5bd184150",
   "metadata": {},
   "outputs": [],
   "source": [
    "# Plot the variable for a specific frame and variable index\n",
    "frame_index = 16  # Replace with the desired frame index\n",
    "variable_index = 4  # Replace with the desired variable index\n",
    "plot_variable(denormalized_pred_variables[0], frame_index, variable_index)"
   ]
  },
  {
   "cell_type": "markdown",
   "id": "05acc1cf-512d-49e3-82a9-93f00edd94b4",
   "metadata": {},
   "source": [
    "## visualize trajectory fron FCN inference "
   ]
  },
  {
   "cell_type": "code",
   "execution_count": null,
   "id": "76c0021a-6370-48db-9b23-ef788b25efff",
   "metadata": {},
   "outputs": [],
   "source": [
    "import h5py\n",
    "import pandas as pd\n",
    "import numpy as np\n",
    "import matplotlib.pyplot as plt\n",
    "import cartopy.crs as ccrs\n",
    "import cartopy.feature as cfeature\n",
    "from matplotlib.animation import FuncAnimation\n",
    "from IPython.display import HTML\n",
    "\n",
    "def get_variable(file_path, variable_name):\n",
    "    hdf5_file = h5py.File(file_path, 'r')\n",
    "    variable = hdf5_file[variable_name][:]\n",
    "    hdf5_file.close()\n",
    "    return variable\n",
    "\n",
    "def extract_typhoon_trajectory(var_data):\n",
    "    trajectory_data = []\n",
    "\n",
    "    # Assuming the structure of your data, please change if it's different.\n",
    "    longitude = np.linspace(0, 360, var_data.shape[2])\n",
    "    latitude = np.linspace(-90, 90, var_data.shape[1])\n",
    "    lon_grid, lat_grid = np.meshgrid(longitude, latitude)\n",
    "\n",
    "    for idx, frame in enumerate(var_data):\n",
    "        min_pressure = np.nanmin(frame) \n",
    "        typhoon_present = min_pressure < 99_000  \n",
    "\n",
    "        if typhoon_present:\n",
    "            typhoon_lat, typhoon_lon = lat_grid[frame == min_pressure][0], lon_grid[frame == min_pressure][0]\n",
    "        else:\n",
    "            typhoon_lat, typhoon_lon = np.nan, np.nan\n",
    "\n",
    "        trajectory_data.append([idx, typhoon_present, typhoon_lon, typhoon_lat, min_pressure])\n",
    "\n",
    "    df = pd.DataFrame(trajectory_data, columns=['idx_frame', 'typhoon_or_not', 'lon', 'lat', 'pressure'])\n",
    "\n",
    "    return df\n",
    "\n",
    "def visualize_pressure_animation_with_trajectory(var_data, df, projection='2d'):\n",
    "    import pandas as pd\n",
    "    import numpy as np    \n",
    "    # Preparation for plotting\n",
    "    var_data = np.flip(var_data, axis=1)\n",
    "    central_longitude = 130\n",
    "    central_latitude = 0\n",
    "    longitude = np.linspace(0, 360, var_data.shape[2])\n",
    "\n",
    "    if projection == '3d':\n",
    "        fig = plt.figure(figsize=(10, 6))\n",
    "        ax = plt.axes(projection=ccrs.Orthographic(central_longitude=central_longitude, central_latitude=central_latitude))\n",
    "    elif projection == '2d':\n",
    "        fig = plt.figure(figsize=(10, 5))\n",
    "        ax = plt.axes(projection=ccrs.PlateCarree(central_longitude=central_longitude))\n",
    "    else:\n",
    "        raise ValueError(\"Invalid projection value. Choose either '2d' or '3d'.\")\n",
    "\n",
    "    coastline = cfeature.COASTLINE.with_scale('110m')\n",
    "    lon_grid, lat_grid = np.meshgrid(longitude, np.linspace(-90, 90, var_data.shape[1]))\n",
    "    \n",
    "    # Initial plot\n",
    "    im = ax.pcolormesh(lon_grid, lat_grid, var_data[0], vmin=97_000, vmax=100_000,  cmap='hot', transform=ccrs.PlateCarree())\n",
    "    ax.add_feature(coastline)\n",
    "    #ax.set_extent([100, 150, -5, 50], crs=ccrs.PlateCarree())\n",
    "    ax.set_extent([50, 180, -5, 50], crs=ccrs.PlateCarree())    \n",
    "    ax.gridlines()\n",
    "    cbar = plt.colorbar(im, label='pressure (hPa)', aspect=40, shrink=0.65)\n",
    "    title = ax.set_title(f'MSL - Frame 0')\n",
    "    \n",
    "    # Typhoon trajectory line\n",
    "    traj_line, = ax.plot([], [], color='black', transform=ccrs.PlateCarree())\n",
    "\n",
    "    # Update function for animation\n",
    "    def update(frame):\n",
    "        im.set_array(var_data[frame].ravel())  # Use flattened array\n",
    "        title.set_text(f'Pressure - Frame {frame}')\n",
    "\n",
    "        # Update typhoon trajectory\n",
    "        traj_df = df[df['idx_frame'] <= frame]\n",
    "        traj_line.set_data(traj_df['lon'], traj_df['lat'])\n",
    "\n",
    "        return [im, title, traj_line]\n",
    "\n",
    "    animation = FuncAnimation(fig, update, frames=range(var_data.shape[0]), interval=200)\n",
    "    plt.close()  # Prevents displaying the initial plot\n",
    "    animation_html = animation.to_jshtml()\n",
    "    autoplay_html = animation_html.replace('controls>', 'controls autoplay>')\n",
    "\n",
    "    return HTML(autoplay_html)\n"
   ]
  },
  {
   "cell_type": "code",
   "execution_count": null,
   "id": "66403728-73ef-4d48-8e67-65e6e385da28",
   "metadata": {},
   "outputs": [],
   "source": []
  },
  {
   "cell_type": "code",
   "execution_count": null,
   "id": "70cc317c-e4dd-4d16-a0f7-5d259d175e15",
   "metadata": {},
   "outputs": [],
   "source": [
    "# Get your data\n",
    "gt_data = get_variable(h5_gt_filename, 'fields')\n",
    "pred_data = get_variable(h5_pred_filename, 'predicted').squeeze(0) \n",
    "print(\"input\",gt_data.shape, pred_data.shape)\n",
    "\n",
    "pred_data = denormalize_pred(pred_data, gm_value[:,:20,:,:], gs_value[:,:20,:,:])\n",
    "#pred_data = pred_data.squeeze(0)  # Squeeze the first dimension\n",
    "print(\"denorm\", pred_data.shape, pred_data.shape)\n",
    "\n",
    "# Assuming pressure is the variable you're interested in (change if needed)\n",
    "gt_var_data = gt_data[:, 4, :, :] # Selecting msl the 5th variable across all frames\n",
    "pred_var_data = pred_data[ :, 4, :, :] # Selecting msl the 5th variable across all frames for the predictions\n",
    "print(\"select variable\", gt_var_data.shape, pred_var_data.shape)\n",
    "\n",
    "# Extract typhoon trajectories\n",
    "gt_df = extract_typhoon_trajectory(gt_var_data)\n",
    "pred_df = extract_typhoon_trajectory(pred_var_data)\n",
    "print(\"traj \", gt_df.shape, pred_df.shape)\n"
   ]
  },
  {
   "cell_type": "code",
   "execution_count": null,
   "id": "c08a671b-4008-426e-b12c-246193a489a7",
   "metadata": {},
   "outputs": [],
   "source": [
    "plt.imshow(gt_var_data[26], origin='upper' )"
   ]
  },
  {
   "cell_type": "code",
   "execution_count": null,
   "id": "121f3fe5-3a5f-4a61-8cf3-775fa340cef8",
   "metadata": {},
   "outputs": [],
   "source": [
    "plt.imshow(pred_var_data[26], origin='upper' )"
   ]
  },
  {
   "cell_type": "code",
   "execution_count": null,
   "id": "f1b45a2d-e828-4e46-a036-3cfcf2922485",
   "metadata": {},
   "outputs": [],
   "source": [
    "print(gt_df)"
   ]
  },
  {
   "cell_type": "code",
   "execution_count": null,
   "id": "399cbefe-d6ce-4f5c-86e1-8e9b988cf2fd",
   "metadata": {},
   "outputs": [],
   "source": [
    "print(pred_df)"
   ]
  },
  {
   "cell_type": "code",
   "execution_count": null,
   "id": "fc198791-56b6-483a-b0ef-597b8fa422eb",
   "metadata": {},
   "outputs": [],
   "source": [
    "# Ground truth visualization\n",
    "visualize_pressure_animation_with_trajectory(gt_var_data, gt_df, projection='3d')"
   ]
  },
  {
   "cell_type": "code",
   "execution_count": null,
   "id": "44d3b732-3570-4c9e-b59d-ffb23cce3924",
   "metadata": {},
   "outputs": [],
   "source": [
    "# Prediction visualization\n",
    "visualize_pressure_animation_with_trajectory(pred_var_data, pred_df, projection='3d')"
   ]
  },
  {
   "cell_type": "markdown",
   "id": "f8655c88-3f27-4a84-9514-f9daa37533e0",
   "metadata": {},
   "source": [
    "# Accessment \n"
   ]
  },
  {
   "cell_type": "markdown",
   "id": "ef312453-c635-4c0c-85d8-decd819311db",
   "metadata": {},
   "source": [
    "\n",
    "Evaluate 30 Sep. 2018 ( extreme case ECMWF-HRES forcast) \n",
    "\n",
    "```\n",
    "{'id': '1825', 'dur': 49, 'start': '2018092800', 'end': '2018100712', 'latitude': 7.4, 'longitude': 150.9, 'lp': 900, 'hws': 115, 'grade': 5} # kongrey\n",
    "{'id': '1826', 'dur': 54, 'start': '2018102018', 'end': '2018110300', 'latitude': 8.4, 'longitude': 160.7, 'lp': 900, 'hws': 115, 'grade': 5} # yutu\n",
    "{'id': '2211', 'dur': 69, 'start': '2022082718', 'end': '2022090900', 'latitude': 23.8, 'longitude': 151.1, 'lp': 920, 'hws': 105, 'grade': 5}  # HINNAMNO\n",
    "\n",
    "```\n",
    "- FourCastNet autoregressive prediction \n",
    "<img src='https://docscontent.nvidia.com/dims4/default/9c9b4d6/2147483647/strip/true/crop/1188x788+0+0/resize/1188x788!/quality/90/?url=https%3A%2F%2Fk3-prod-nvidia-docs.s3.amazonaws.com%2Fbrightspot%2Fsphinx%2F00000187-c443-dd05-a3bf-e57fb6480000%2Fdeeplearning%2Fmodulus%2Fmodulus-sym%2F_images%2Ffourcastnet_overview.png'>\n",
    "\n",
    "\n",
    "- FourCastNet iterative prediction with adjust\n",
    "\n",
    "<img src='https://www.researchgate.net/publication/372137432/figure/fig4/AS:11431281172607179@1688612874115/Pangu-Weather-is-more-accurate-at-early-stage-cyclone-tracking-than-ECMWF-HRES-a-b.png'>\n",
    "image from Pangu-Weather paper"
   ]
  },
  {
   "cell_type": "code",
   "execution_count": null,
   "id": "46b7bb08-b477-480b-b7fe-1ad98eaf777b",
   "metadata": {},
   "outputs": [],
   "source": []
  }
 ],
 "metadata": {
  "kernelspec": {
   "display_name": "Python 3 (ipykernel)",
   "language": "python",
   "name": "python3"
  },
  "language_info": {
   "codemirror_mode": {
    "name": "ipython",
    "version": 3
   },
   "file_extension": ".py",
   "mimetype": "text/x-python",
   "name": "python",
   "nbconvert_exporter": "python",
   "pygments_lexer": "ipython3",
   "version": "3.8.10"
  }
 },
 "nbformat": 4,
 "nbformat_minor": 5
}
