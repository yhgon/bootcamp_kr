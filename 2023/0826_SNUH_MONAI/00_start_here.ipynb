{
 "cells": [
  {
   "cell_type": "markdown",
   "metadata": {},
   "source": [
    "#  SNUH - NVIDIA MONAI GPU Bootcamp\n",
    "\n",
    "<img src=\"https://github.com/Project-MONAI/MONAIBootcamp2021/raw/2f28b64f814a03703667c8ea18cc84f53d6795e4/day1/monai.png\" width=400>\n",
    "\n",
    "Welcome to the MONAI bootcamp @ SNUH !\n",
    "\n",
    "## contents \n",
    "- [01 MONAI transform](./01_getting.ipynb) : Getting Started with MONAI ( Data loader, Transform) \n",
    "- [02_end_to_end_pipeline](./02_end_to_end_pipeline.ipynb) : End-To-End Workflow with MONAI ( How to train) \n",
    "- [03_spleen_segment](./03_spleen_segment.ipynb) : spleen segmentation with UNet (checkpoint and resume training)\n",
    "- [04_Auto3DSeg](./04_Auto3DSeg.ipynb) : Introduce Auto3DSeg ( toy examples) \n",
    "- [05_Auto3DSeg_hippocampus](./05_Auto3DSeg_hippocampus.ipynb)  :  : Introduce Auto3DSeg  for general datasets \n",
    "- [06_digital_pathology_wsi](./06_digital_pathology_wsi.ipynbb) : Digital Pathology - (WSIReader , cuCIM)\n",
    "- [07_HoverNet_01_inference](./07_HoverNet_01_inference.ipynb): Digital Pathology - HoVerNet Inference \n",
    "- [08_HoverNet_02_train](./08_HoverNet_02_train.ipynb) :  Digital Pathology - HoverNet train \n",
    "\n",
    "\n",
    "## contents for MONAI \n",
    "check MONAI [document](https://docs.monai.io/en/stable/index.html) for more information.\n",
    "Examples and notebook tutorials are located at [Project-MONAI/tutorials](https://github.com/Project-MONAI/tutorials). \n",
    "This bootcamp materials are also based on it.\n",
    " \n",
    "\n",
    "### Monai Network\n",
    "MONAI provides predefined networks. we can easily import it. \n",
    "\n",
    "- [Layers](https://docs.monai.io/en/stable/networks.html#layers) : Act, Conv, Norm, Dropout, Flatten, Reshape, Pad, Pool, SkipConnection\n",
    "- [Blocks](https://docs.monai.io/en/stable/networks.html#module-monai.networks.blocks) : ADN, Convolution, Synamic UnetBlock, FCN, GCN, Squeeze-andExcitation, ResNeXt, SABlock, Transformer Block, \n",
    "- [Nets](https://docs.monai.io/en/stable/networks.html#nets)  : DenseNet121, EfficientNet, SegResNet, ResNet, SENet154, DyUNet, UNet, AutoEncoder, VarAutoEncoder, ViT,  "
   ]
  },
  {
   "cell_type": "markdown",
   "metadata": {},
   "source": [
    "#### Required Packages \n",
    "The servers running MONAI Bootcamp already have CUDA driver, CUDA toolkit 12.0, pytorch 1.14+, monai-weekly and libraries for practice installed.\n",
    "\n",
    "This notebook has the pip command for installing MONAI and will be added to any subsequent notebook in BYOD or colab environment.\n",
    "\n",
    "Execute the following cell to install MONAI the first time a colab notebook is run:"
   ]
  },
  {
   "cell_type": "code",
   "execution_count": null,
   "metadata": {},
   "outputs": [],
   "source": [
    "#!pip install monai-weekly[all]"
   ]
  },
  {
   "cell_type": "markdown",
   "metadata": {},
   "source": [
    "### Check GPU Support\n",
    "\n",
    "Running `!nvidia-smi` in a cell will verify this has worked and show you what kind of hardware you have access to."
   ]
  },
  {
   "cell_type": "code",
   "execution_count": null,
   "metadata": {},
   "outputs": [],
   "source": [
    "!nvidia-smi"
   ]
  },
  {
   "cell_type": "markdown",
   "metadata": {},
   "source": [
    "## Navigation\n",
    "\n",
    "- [01 MONAI transform](./01_getting.ipynb)\n",
    "- [02_end_to_end_pipeline](./02_end_to_end_pipeline.ipynb)\n",
    "- [03_spleen_segment](./03_spleen_segment.ipynb)\n",
    "- [04_Auto3DSeg](./04_Auto3DSeg.ipynb)\n",
    "- [05_Auto3DSeg_hippocampus](./05_Auto3DSeg_hippocampus.ipynb)\n",
    "- [06_digital_pathology_wsi](./06_digital_pathology_wsi.ipynbb)\n",
    "- [07_HoverNet_01_inference](./07_HoverNet_01_inference.ipynb)\n",
    "- [08_HoverNet_02_train](./08_HoverNet_02_train.ipynb)\n",
    "\n",
    "\n",
    "\n",
    "<img src=\"https://github.com/Project-MONAI/MONAIBootcamp2021/raw/2f28b64f814a03703667c8ea18cc84f53d6795e4/day1/monai.png\" width=400>"
   ]
  },
  {
   "cell_type": "code",
   "execution_count": null,
   "metadata": {},
   "outputs": [],
   "source": []
  }
 ],
 "metadata": {
  "kernelspec": {
   "display_name": "Python 3 (ipykernel)",
   "language": "python",
   "name": "python3"
  },
  "language_info": {
   "codemirror_mode": {
    "name": "ipython",
    "version": 3
   },
   "file_extension": ".py",
   "mimetype": "text/x-python",
   "name": "python",
   "nbconvert_exporter": "python",
   "pygments_lexer": "ipython3",
   "version": "3.8.10"
  }
 },
 "nbformat": 4,
 "nbformat_minor": 4
}
