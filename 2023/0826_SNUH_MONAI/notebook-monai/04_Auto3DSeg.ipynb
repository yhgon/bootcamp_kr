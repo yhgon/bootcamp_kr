{
 "cells": [
  {
   "cell_type": "markdown",
   "metadata": {
    "id": "WA9Ji24oyvn5"
   },
   "source": [
    "# SNUH - NVIDIA MONAI BootCamp - Auto3DdSeg \n",
    " <img src=\"https://github.com/Project-MONAI/MONAIBootcamp2021/raw/2f28b64f814a03703667c8ea18cc84f53d6795e4/day1/monai.png\" width=400>\n",
    " \n",
    "by Hyungon Ryu | Sr. Solution Architect NVIDIA AI Tech. Center Korea (NVAITC Korea)\n",
    "\n",
    "In this notebook, we will provide a simple demonstration of how to use Auto3DSeg AutoRunner to process a simulated dataset and generate results within minutes.\n",
    "\n",
    "<img src=\"https://raw.githubusercontent.com/Project-MONAI/tutorials/main/auto3dseg/figures/workflow_v1.png\" width=\"60%\" />\n",
    "\n",
    "## Overview\n",
    "\n",
    "3D medical image segmentation is an important task with great potential for clinical understanding, disease diagnosis, and surgical planning. Auto3DSeg is a comprehensive solution for large-scale 3D medical image segmentation. It leverages the latest advances in MONAI and GPUs to efficiently develop and deploy algorithms with state-of-the-art performance for beginners or advanced researchers in the field. According to the statistics of the recent MICCAI conferences, more than 60% of the papers are applications of segmentation algorithms, and more than half of them use 3D datasets. After working in this field for many years, we have released the state-of-the-art segmentation solution Auto3DSeg, which requires minimal user input (e.g., data root and list).\n",
    "\n",
    "Auto3DSeg first analyzes the global information, such as the dataset's intensity, data size, and data spacing. Then it generates algorithm folders in MONAI bundle format based on data statistics and algorithm templates. Next, all algorithms initiate model training to obtain checkpoints with the best validation accuracy. Finally, the ensemble module selects the algorithms via ranking trained checkpoints and creates ensemble predictions. Meanwhile, the solution offers different levels of user experience for beginners and advanced researchers. It has been tested on large-scale 3D medical imaging datasets in several different modalities.\n",
    "\n",
    "- Unified Framework: Auto3DSeg is a self-contained 3D medical image segmentation solution with minimal user input.\n",
    "- Flexible Modular Design: Auto3DSeg components can be used independently to meet different needs of users.\n",
    "- Support of Bring-Your-Own-Algorithm (BYOA): We have introduced an efficient way to introduce users' own algorithms into the Auto3DSeg framework.\n",
    "- High Accuracy and Efficiency: Auto3DSeg achieves state-of-the-art performance in most applications of 3D medical image segmentation.\n",
    "\n",
    "\n",
    "### Table of Contents\n",
    "* [Imports](#0.-Imports)\n",
    "* [Dataset Setup](#1.-Dataset-Setup)\n",
    "* [Auto3DSeg](#2.-Auto3DSeg)\n",
    "* [Inspect Predictions](#3.-Inspect-Predictions)\n",
    "* [Optional Exercises](#4.-Optional-Exercises)\n",
    "* [Conclusion](#5.-Conclusion)"
   ]
  },
  {
   "cell_type": "markdown",
   "metadata": {
    "id": "8gzxzmaryvn7",
    "tags": []
   },
   "source": [
    "### System Setup\n",
    "\n",
    "Before proceeding with the example, it is important to ensure that the NVIDIA driver has been installed correctly. You can verify this by running the nvidia-smi command, which should provide information about the GPUs on your system."
   ]
  },
  {
   "cell_type": "code",
   "execution_count": 1,
   "metadata": {
    "colab": {
     "base_uri": "https://localhost:8080/"
    },
    "id": "AR87aFUByvn7",
    "outputId": "7a92299b-fafd-43f4-d7d4-efe068d1c06f"
   },
   "outputs": [
    {
     "name": "stdout",
     "output_type": "stream",
     "text": [
      "Mon Aug 21 08:21:43 2023       \n",
      "+-----------------------------------------------------------------------------+\n",
      "| NVIDIA-SMI 525.105.17   Driver Version: 525.105.17   CUDA Version: 12.0     |\n",
      "|-------------------------------+----------------------+----------------------+\n",
      "| GPU  Name        Persistence-M| Bus-Id        Disp.A | Volatile Uncorr. ECC |\n",
      "| Fan  Temp  Perf  Pwr:Usage/Cap|         Memory-Usage | GPU-Util  Compute M. |\n",
      "|                               |                      |               MIG M. |\n",
      "|===============================+======================+======================|\n",
      "|   0  NVIDIA A100-SXM...  On   | 00000000:07:00.0 Off |                   On |\n",
      "| N/A   31C    P0    52W / 400W |     39MiB / 81920MiB |     N/A      Default |\n",
      "|                               |                      |              Enabled |\n",
      "+-------------------------------+----------------------+----------------------+\n",
      "|   1  NVIDIA A100-SXM...  On   | 00000000:0F:00.0 Off |                   On |\n",
      "| N/A   28C    P0    49W / 400W |     39MiB / 81920MiB |     N/A      Default |\n",
      "|                               |                      |              Enabled |\n",
      "+-------------------------------+----------------------+----------------------+\n",
      "|   2  NVIDIA A100-SXM...  On   | 00000000:47:00.0 Off |                   On |\n",
      "| N/A   28C    P0    52W / 400W |     39MiB / 81920MiB |     N/A      Default |\n",
      "|                               |                      |              Enabled |\n",
      "+-------------------------------+----------------------+----------------------+\n",
      "|   3  NVIDIA A100-SXM...  On   | 00000000:4E:00.0 Off |                   On |\n",
      "| N/A   29C    P0    51W / 400W |     39MiB / 81920MiB |     N/A      Default |\n",
      "|                               |                      |              Enabled |\n",
      "+-------------------------------+----------------------+----------------------+\n",
      "|   4  NVIDIA A100-SXM...  On   | 00000000:87:00.0 Off |                   On |\n",
      "| N/A   34C    P0    53W / 400W |     39MiB / 81920MiB |     N/A      Default |\n",
      "|                               |                      |              Enabled |\n",
      "+-------------------------------+----------------------+----------------------+\n",
      "|   5  NVIDIA A100-SXM...  On   | 00000000:90:00.0 Off |                   On |\n",
      "| N/A   33C    P0    51W / 400W |     39MiB / 81920MiB |     N/A      Default |\n",
      "|                               |                      |              Enabled |\n",
      "+-------------------------------+----------------------+----------------------+\n",
      "|   6  NVIDIA A100-SXM...  On   | 00000000:B7:00.0 Off |                   On |\n",
      "| N/A   33C    P0    52W / 400W |     39MiB / 81920MiB |     N/A      Default |\n",
      "|                               |                      |              Enabled |\n",
      "+-------------------------------+----------------------+----------------------+\n",
      "|   7  NVIDIA A100-SXM...  On   | 00000000:BD:00.0 Off |                   On |\n",
      "| N/A   33C    P0    51W / 400W |     39MiB / 81920MiB |     N/A      Default |\n",
      "|                               |                      |              Enabled |\n",
      "+-------------------------------+----------------------+----------------------+\n",
      "\n",
      "+-----------------------------------------------------------------------------+\n",
      "| MIG devices:                                                                |\n",
      "+------------------+----------------------+-----------+-----------------------+\n",
      "| GPU  GI  CI  MIG |         Memory-Usage |        Vol|         Shared        |\n",
      "|      ID  ID  Dev |           BAR1-Usage | SM     Unc| CE  ENC  DEC  OFA  JPG|\n",
      "|                  |                      |        ECC|                       |\n",
      "|==================+======================+===========+=======================|\n",
      "|  0    3   0   0  |     13MiB / 19968MiB | 28      0 |  2   0    1    0    0 |\n",
      "|                  |      0MiB / 32767MiB |           |                       |\n",
      "+------------------+----------------------+-----------+-----------------------+\n",
      "                                                                               \n",
      "+-----------------------------------------------------------------------------+\n",
      "| Processes:                                                                  |\n",
      "|  GPU   GI   CI        PID   Type   Process name                  GPU Memory |\n",
      "|        ID   ID                                                   Usage      |\n",
      "|=============================================================================|\n",
      "|  No running processes found                                                 |\n",
      "+-----------------------------------------------------------------------------+\n"
     ]
    }
   ],
   "source": [
    "!nvidia-smi"
   ]
  },
  {
   "cell_type": "markdown",
   "metadata": {
    "id": "-4_lbCqAyvn8"
   },
   "source": [
    "### 0. Imports\n",
    "\n",
    "In this notebook, we will only require minimal imports from MONAI and utilities, as Auto3DSeg will handle the remaining imports during its various phases."
   ]
  },
  {
   "cell_type": "markdown",
   "metadata": {
    "id": "2_mtCnsJyAVU"
   },
   "source": [
    "#### 0.1 Installation\n",
    "Before running the notebook, we need to ensure that the required packages are installed in the environment. You can install the necessary packages by running the following commands:"
   ]
  },
  {
   "cell_type": "code",
   "execution_count": 1,
   "metadata": {
    "colab": {
     "base_uri": "https://localhost:8080/"
    },
    "id": "N-HzPbvCy4Jt",
    "outputId": "24e098d7-1851-44f4-bf11-889c0bb69dbf"
   },
   "outputs": [],
   "source": [
    "#!pip install -U monai-weekly[all]"
   ]
  },
  {
   "cell_type": "markdown",
   "metadata": {
    "id": "kTT5j8agyAVV"
   },
   "source": [
    "#### 0.2 Imports\n",
    "\n",
    "Let's import the required libraries and use the `print_config()` function to ensure that everything is installed correctly."
   ]
  },
  {
   "cell_type": "code",
   "execution_count": 2,
   "metadata": {
    "colab": {
     "base_uri": "https://localhost:8080/"
    },
    "id": "m2fsq0VTyvn8",
    "outputId": "461bb984-93be-4760-a4ae-0d36fee29b38"
   },
   "outputs": [
    {
     "name": "stdout",
     "output_type": "stream",
     "text": [
      "MONAI version: 1.3.dev2334\n",
      "Numpy version: 1.22.2\n",
      "Pytorch version: 1.14.0a0+44dac51\n",
      "MONAI flags: HAS_EXT = False, USE_COMPILED = False, USE_META_DICT = False\n",
      "MONAI rev id: c5771c7316c8b024071ecd7135d77ae70bcd557e\n",
      "MONAI __file__: /usr/local/lib/python3.8/dist-packages/monai/__init__.py\n",
      "\n",
      "Optional dependencies:\n",
      "Pytorch Ignite version: 0.4.11\n",
      "ITK version: 5.3.0\n",
      "Nibabel version: 5.1.0\n",
      "scikit-image version: 0.21.0\n",
      "scipy version: 1.10.1\n",
      "Pillow version: 9.2.0\n",
      "Tensorboard version: 2.9.0\n",
      "gdown version: 4.7.1\n",
      "TorchVision version: 0.15.0a0\n",
      "tqdm version: 4.64.1\n",
      "lmdb version: 1.4.1\n",
      "psutil version: 5.9.4\n",
      "pandas version: 1.5.2\n",
      "einops version: 0.6.1\n",
      "transformers version: 4.21.3\n",
      "mlflow version: 2.6.0\n",
      "pynrrd version: 1.0.0\n",
      "clearml version: 1.12.2\n",
      "\n",
      "For details about installing the optional dependencies, please visit:\n",
      "    https://docs.monai.io/en/latest/installation.html#installing-the-recommended-dependencies\n",
      "\n"
     ]
    }
   ],
   "source": [
    "import os\n",
    "import json\n",
    "import nibabel as nib\n",
    "import numpy as np\n",
    "import matplotlib.pyplot as plt\n",
    "\n",
    "from monai.apps.auto3dseg import AutoRunner\n",
    "from monai.config import print_config\n",
    "from monai.data import create_test_image_3d\n",
    "\n",
    "print_config()"
   ]
  },
  {
   "cell_type": "markdown",
   "metadata": {
    "id": "bYmo7zTLyvn8"
   },
   "source": [
    "### 1. Dataset Setup\n",
    "\n",
    "#### 1.1 Simulate a Small Dataset\n",
    "\n",
    "Training AI models can be time-consuming, so to provide a quick demonstration of Auto3DSeg in this notebook, we will simulate a small dataset and train the model for only a few epochs. Keep in mind that the performance of the trained model may not be optimal due to the limited training time, but the entire pipeline will be completed within minutes.\n",
    "\n",
    "The `sim_datalist` variable contains information about the simulated datasets. It includes a list of 24 training images and corresponding labels, as well as 8 testing images and labels. The training data is divided into 2 folds, where each fold uses 12 images for training and 4 images for validation. The size of the dimensions can be defined by the `sim_dim` variable.\n",
    "\n",
    "To proceed with the dataset setup, we will follow the steps below:"
   ]
  },
  {
   "cell_type": "markdown",
   "metadata": {
    "id": "CoXPbywAyvn9"
   },
   "source": [
    "#### 1.2 Generate Images and Labels\n",
    "\n",
    "We can utilize the `create_test_image_3d` function from MONAI and `nib.Nifti1Image` from the nibabel library to generate the 3D simulated images. These images will be saved under the specified `work_dir`.\n",
    "\n",
    "Since we have already defined our image set, we can iterate over those images and label names to create matching files. In this case, our simulated data will consist of random circles generated in a 3D space, which we will visualize below."
   ]
  },
  {
   "cell_type": "code",
   "execution_count": 1,
   "metadata": {
    "id": "Frt6JbXtyvn9"
   },
   "outputs": [
    {
     "name": "stderr",
     "output_type": "stream",
     "text": [
      "Environment variable `TORCH_ALLOW_TF32_CUBLAS_OVERRIDE = 1` is set.\n",
      "  This environment variable may enable TF32 mode accidentally and affect precision.\n",
      "  See https://docs.monai.io/en/latest/precision_accelerating.html#precision-and-accelerating\n"
     ]
    }
   ],
   "source": [
    "import os\n",
    "import json\n",
    "import numpy as np\n",
    "import nibabel as nib\n",
    "import matplotlib.pyplot as plt\n",
    "from monai.data import create_test_image_3d"
   ]
  },
  {
   "cell_type": "code",
   "execution_count": 3,
   "metadata": {
    "id": "zrI-reeY5qXc"
   },
   "outputs": [],
   "source": [
    "def generate_dataset(data_root, num_train, num_test, sim_dim, num_seg_classes):\n",
    "    sim_datalist = {\n",
    "        \"testing\": [],\n",
    "        \"training\": []\n",
    "    }\n",
    "\n",
    "    if not os.path.isdir(data_root):\n",
    "        os.makedirs(data_root)\n",
    "\n",
    "    for i in range(num_train):\n",
    "        fold = i % 2  # Alternate between fold 0 and fold 1\n",
    "        im, seg = create_test_image_3d(\n",
    "            sim_dim[0], sim_dim[1], sim_dim[2], rad_max=10, num_seg_classes=num_seg_classes,\n",
    "            random_state=np.random.RandomState(42 + i)\n",
    "        )\n",
    "\n",
    "        image_name = f\"tr_image_{i:03d}.nii.gz\"\n",
    "        label_name = f\"tr_label_{i:03d}.nii.gz\"\n",
    "\n",
    "        image_fpath = os.path.join(data_root, image_name)\n",
    "        label_fpath = os.path.join(data_root, label_name)\n",
    "\n",
    "        nib.save(nib.Nifti1Image(im, affine=np.eye(4)), image_fpath)\n",
    "        nib.save(nib.Nifti1Image(seg, affine=np.eye(4)), label_fpath)\n",
    "\n",
    "        entry = {\"fold\": fold, \"image\": image_name, \"label\": label_name}\n",
    "        sim_datalist[\"training\"].append(entry)\n",
    "\n",
    "    for i in range(num_test):\n",
    "        im, seg = create_test_image_3d(\n",
    "            sim_dim[0], sim_dim[1], sim_dim[2], rad_max=10, num_seg_classes=num_seg_classes,\n",
    "            random_state=np.random.RandomState(42 + num_train + i)\n",
    "        )\n",
    "\n",
    "        image_name = f\"test_image_{i:03d}.nii.gz\"\n",
    "        label_name = f\"test_label_{i:03d}.nii.gz\"\n",
    "\n",
    "        image_fpath = os.path.join(data_root, image_name)\n",
    "        label_fpath = os.path.join(data_root, label_name)\n",
    "\n",
    "        nib.save(nib.Nifti1Image(im, affine=np.eye(4)), image_fpath)\n",
    "        nib.save(nib.Nifti1Image(seg, affine=np.eye(4)), label_fpath)\n",
    "\n",
    "        entry = {\"image\": image_name, \"label\": label_name}\n",
    "        sim_datalist[\"testing\"].append(entry)\n",
    "\n",
    "    datalist_file = os.path.join(data_root, \"sim_datalist.json\")\n",
    "    with open(datalist_file, \"w\") as f:\n",
    "        json.dump(sim_datalist, f)\n",
    "\n",
    "    return datalist_file\n"
   ]
  },
  {
   "cell_type": "code",
   "execution_count": 4,
   "metadata": {
    "colab": {
     "base_uri": "https://localhost:8080/"
    },
    "id": "UAyYvDHW5tLQ",
    "outputId": "b8fa3940-f6e8-4bbf-a8fa-e8fd0be967ac"
   },
   "outputs": [],
   "source": [
    "# Define parameters\n",
    "work_dir = \"./auto3dseg\"\n",
    "num_train = 24\n",
    "num_test = 8\n",
    "sim_dim = (64, 64, 64)\n",
    "num_seg_classes = 1\n",
    "\n",
    "# Generate the dataset\n",
    "if not os.path.isdir(work_dir):\n",
    "    os.makedirs(work_dir)\n",
    "\n",
    "dataroot_dir = os.path.join(work_dir, \"sim_dataroot\")\n",
    "if not os.path.isdir(dataroot_dir):\n",
    "    os.makedirs(dataroot_dir)\n",
    "\n"
   ]
  },
  {
   "cell_type": "code",
   "execution_count": 14,
   "metadata": {},
   "outputs": [
    {
     "name": "stdout",
     "output_type": "stream",
     "text": [
      "Generated dataset: ./auto3dseg/sim_dataroot/sim_datalist.json\n"
     ]
    }
   ],
   "source": [
    "datalist_file = generate_dataset(dataroot_dir, num_train, num_test, sim_dim, num_seg_classes)\n",
    "print(\"Generated dataset:\", datalist_file)"
   ]
  },
  {
   "cell_type": "code",
   "execution_count": 15,
   "metadata": {
    "colab": {
     "base_uri": "https://localhost:8080/"
    },
    "id": "tMq1DVUG8ef5",
    "outputId": "cbe25539-bd45-42fa-8445-d5d84e87a1e2"
   },
   "outputs": [
    {
     "name": "stdout",
     "output_type": "stream",
     "text": [
      "{\"testing\": [{\"image\": \"test_image_000.nii.gz\", \"label\": \"test_label_000.nii.gz\"}, {\"image\": \"test_image_001.nii.gz\", \"label\": \"test_label_001.nii.gz\"}, {\"image\": \"test_image_002.nii.gz\", \"label\": \"test_label_002.nii.gz\"}, {\"image\": \"test_image_003.nii.gz\", \"label\": \"test_label_003.nii.gz\"}, {\"image\": \"test_image_004.nii.gz\", \"label\": \"test_label_004.nii.gz\"}, {\"image\": \"test_image_005.nii.gz\", \"label\": \"test_label_005.nii.gz\"}, {\"image\": \"test_image_006.nii.gz\", \"label\": \"test_label_006.nii.gz\"}, {\"image\": \"test_image_007.nii.gz\", \"label\": \"test_label_007.nii.gz\"}], \"training\": [{\"fold\": 0, \"image\": \"tr_image_000.nii.gz\", \"label\": \"tr_label_000.nii.gz\"}, {\"fold\": 1, \"image\": \"tr_image_001.nii.gz\", \"label\": \"tr_label_001.nii.gz\"}, {\"fold\": 0, \"image\": \"tr_image_002.nii.gz\", \"label\": \"tr_label_002.nii.gz\"}, {\"fold\": 1, \"image\": \"tr_image_003.nii.gz\", \"label\": \"tr_label_003.nii.gz\"}, {\"fold\": 0, \"image\": \"tr_image_004.nii.gz\", \"label\": \"tr_label_004.nii.gz\"}, {\"fold\": 1, \"image\": \"tr_image_005.nii.gz\", \"label\": \"tr_label_005.nii.gz\"}, {\"fold\": 0, \"image\": \"tr_image_006.nii.gz\", \"label\": \"tr_label_006.nii.gz\"}, {\"fold\": 1, \"image\": \"tr_image_007.nii.gz\", \"label\": \"tr_label_007.nii.gz\"}, {\"fold\": 0, \"image\": \"tr_image_008.nii.gz\", \"label\": \"tr_label_008.nii.gz\"}, {\"fold\": 1, \"image\": \"tr_image_009.nii.gz\", \"label\": \"tr_label_009.nii.gz\"}, {\"fold\": 0, \"image\": \"tr_image_010.nii.gz\", \"label\": \"tr_label_010.nii.gz\"}, {\"fold\": 1, \"image\": \"tr_image_011.nii.gz\", \"label\": \"tr_label_011.nii.gz\"}, {\"fold\": 0, \"image\": \"tr_image_012.nii.gz\", \"label\": \"tr_label_012.nii.gz\"}, {\"fold\": 1, \"image\": \"tr_image_013.nii.gz\", \"label\": \"tr_label_013.nii.gz\"}, {\"fold\": 0, \"image\": \"tr_image_014.nii.gz\", \"label\": \"tr_label_014.nii.gz\"}, {\"fold\": 1, \"image\": \"tr_image_015.nii.gz\", \"label\": \"tr_label_015.nii.gz\"}, {\"fold\": 0, \"image\": \"tr_image_016.nii.gz\", \"label\": \"tr_label_016.nii.gz\"}, {\"fold\": 1, \"image\": \"tr_image_017.nii.gz\", \"label\": \"tr_label_017.nii.gz\"}, {\"fold\": 0, \"image\": \"tr_image_018.nii.gz\", \"label\": \"tr_label_018.nii.gz\"}, {\"fold\": 1, \"image\": \"tr_image_019.nii.gz\", \"label\": \"tr_label_019.nii.gz\"}, {\"fold\": 0, \"image\": \"tr_image_020.nii.gz\", \"label\": \"tr_label_020.nii.gz\"}, {\"fold\": 1, \"image\": \"tr_image_021.nii.gz\", \"label\": \"tr_label_021.nii.gz\"}, {\"fold\": 0, \"image\": \"tr_image_022.nii.gz\", \"label\": \"tr_label_022.nii.gz\"}, {\"fold\": 1, \"image\": \"tr_image_023.nii.gz\", \"label\": \"tr_label_023.nii.gz\"}]}"
     ]
    }
   ],
   "source": [
    "!cat  ./auto3dseg/sim_dataroot/sim_datalist.json"
   ]
  },
  {
   "cell_type": "markdown",
   "metadata": {
    "id": "VWaWkmEyyvn-"
   },
   "source": [
    "#### 1.3 Inspect the Simulated Data\n",
    "\n",
    "To get an idea of the simulated images in the test dataset, we can select a slice from the 3D image and visualize it. This will give us a glimpse of the simulated data."
   ]
  },
  {
   "cell_type": "code",
   "execution_count": 6,
   "metadata": {
    "id": "xFIxFqcmyvn-"
   },
   "outputs": [],
   "source": [
    "def visualize_dataset(dataroot_dir, dataset_type, index):\n",
    "    with open(os.path.join(dataroot_dir, \"sim_datalist.json\"), \"r\") as f:\n",
    "        sim_datalist = json.load(f)\n",
    "\n",
    "    if dataset_type == \"train\":\n",
    "        dataset = sim_datalist[\"training\"]\n",
    "    elif dataset_type == \"test\":\n",
    "        dataset = sim_datalist[\"testing\"]\n",
    "    else:\n",
    "        print(\"Invalid dataset type. Use 'train' or 'test'.\")\n",
    "        return\n",
    "\n",
    "    if index < 0 or index >= len(dataset):\n",
    "        print(\"Invalid index.\")\n",
    "        return\n",
    "\n",
    "    entry = dataset[index]\n",
    "    img_nib = nib.load(os.path.join(dataroot_dir, entry[\"image\"]))\n",
    "    lbl_nib = nib.load(os.path.join(dataroot_dir, entry[\"label\"]))\n",
    "    img = np.array(img_nib.dataobj)\n",
    "    lbl = np.array(lbl_nib.dataobj)\n",
    "\n",
    "    plt.subplot(1, 2, 1)\n",
    "    plt.imshow(img[sim_dim[2] // 2])\n",
    "    plt.title(f\"Image - {dataset_type} idx {index}\")\n",
    "    cbar = plt.colorbar(shrink=0.55)\n",
    "\n",
    "    plt.subplot(1, 2, 2)\n",
    "    plt.imshow(lbl[sim_dim[2] // 2])\n",
    "    plt.title(f\"Label - {dataset_type} idx {index}\")\n",
    "    cbar = plt.colorbar(shrink=0.55)\n",
    "\n",
    "    plt.tight_layout()\n",
    "    plt.show()\n",
    "\n"
   ]
  },
  {
   "cell_type": "code",
   "execution_count": 16,
   "metadata": {
    "colab": {
     "base_uri": "https://localhost:8080/",
     "height": 298
    },
    "id": "sZbCEqlx1H83",
    "outputId": "b48c7dde-8357-4195-a755-944bece7842b"
   },
   "outputs": [
    {
     "data": {
      "image/png": "[encoded data removed]",
      "text/plain": [
       "<Figure size 640x480 with 4 Axes>"
      ]
     },
     "metadata": {},
     "output_type": "display_data"
    }
   ],
   "source": [
    "# Example usage\n",
    "dataroot_dir = \"./auto3dseg/sim_dataroot\"\n",
    "dataset_type = \"train\"  # or \"test\"\n",
    "index = 1  # Specify the index you want to visualize\n",
    "\n",
    "visualize_dataset(dataroot_dir, dataset_type, index)\n"
   ]
  },
  {
   "cell_type": "code",
   "execution_count": 17,
   "metadata": {
    "colab": {
     "base_uri": "https://localhost:8080/",
     "height": 298
    },
    "id": "qfo2MDf8ZKsD",
    "outputId": "39a0baea-f763-4bc2-eb39-c4a82fd500f6"
   },
   "outputs": [
    {
     "data": {
      "image/png": "[encoded data removed]",
      "text/plain": [
       "<Figure size 640x480 with 4 Axes>"
      ]
     },
     "metadata": {},
     "output_type": "display_data"
    }
   ],
   "source": [
    "# Example usage\n",
    "dataroot_dir = \"./auto3dseg/sim_dataroot\"\n",
    "dataset_type = \"test\"  # or \"test\"\n",
    "index = 1  # Specify the index you want to visualize\n",
    "\n",
    "visualize_dataset(dataroot_dir, dataset_type, index)\n"
   ]
  },
  {
   "cell_type": "markdown",
   "metadata": {
    "id": "Z6XtCrVZQFQU"
   },
   "source": [
    "#### 1.4 Data Analysis in Auto3DSeg\n",
    "\n",
    "In this notebook, we will provide a brief example of how to to customize your data analysis pipeline"
   ]
  },
  {
   "cell_type": "code",
   "execution_count": 9,
   "metadata": {
    "colab": {
     "base_uri": "https://localhost:8080/"
    },
    "id": "FmeMYXZA_Y8A",
    "outputId": "dc196052-6363-49cd-a1c9-334ad96bc4f6"
   },
   "outputs": [
    {
     "name": "stdout",
     "output_type": "stream",
     "text": [
      "MONAI version: 1.3.dev2334\n",
      "Numpy version: 1.22.2\n",
      "Pytorch version: 1.14.0a0+44dac51\n",
      "MONAI flags: HAS_EXT = False, USE_COMPILED = False, USE_META_DICT = False\n",
      "MONAI rev id: c5771c7316c8b024071ecd7135d77ae70bcd557e\n",
      "MONAI __file__: /usr/local/lib/python3.8/dist-packages/monai/__init__.py\n",
      "\n",
      "Optional dependencies:\n",
      "Pytorch Ignite version: 0.4.11\n",
      "ITK version: 5.3.0\n",
      "Nibabel version: 5.1.0\n",
      "scikit-image version: 0.21.0\n",
      "scipy version: 1.10.1\n",
      "Pillow version: 9.2.0\n",
      "Tensorboard version: 2.9.0\n",
      "gdown version: 4.7.1\n",
      "TorchVision version: 0.15.0a0\n",
      "tqdm version: 4.64.1\n",
      "lmdb version: 1.4.1\n",
      "psutil version: 5.9.4\n",
      "pandas version: 1.5.2\n",
      "einops version: 0.6.1\n",
      "transformers version: 4.21.3\n",
      "mlflow version: 2.6.0\n",
      "pynrrd version: 1.0.0\n",
      "clearml version: 1.12.2\n",
      "\n",
      "For details about installing the optional dependencies, please visit:\n",
      "    https://docs.monai.io/en/latest/installation.html#installing-the-recommended-dependencies\n",
      "\n"
     ]
    }
   ],
   "source": [
    "import os\n",
    "import torch\n",
    "import tempfile\n",
    "import nibabel as nib\n",
    "import numpy as np\n",
    "\n",
    "from copy import deepcopy\n",
    "from tqdm import tqdm\n",
    "\n",
    "from monai.auto3dseg.analyzer import Analyzer\n",
    "from monai.auto3dseg import (\n",
    "    SampleOperations,\n",
    "    SegSummarizer,\n",
    "    concat_val_to_np,\n",
    "    datafold_read,\n",
    ")\n",
    "from monai.config import print_config\n",
    "from monai.data import DataLoader, Dataset, create_test_image_3d\n",
    "from monai.data.utils import no_collation\n",
    "from monai.transforms import (\n",
    "    Compose,\n",
    "    EnsureChannelFirstd,\n",
    "    EnsureTyped,\n",
    "    Lambdad,\n",
    "    LoadImaged,\n",
    "    Orientationd,\n",
    "    SqueezeDimd,\n",
    "    ToDeviced,\n",
    ")\n",
    "\n",
    "from monai.utils.enums import DataStatsKeys\n",
    "\n",
    "\n",
    "def _argmax_if_multichannel(x):\n",
    "    return torch.argmax(x, dim=0, keepdim=True) if x.shape[0] > 1 else x\n",
    "\n",
    "\n",
    "print_config()"
   ]
  },
  {
   "cell_type": "code",
   "execution_count": 10,
   "metadata": {
    "id": "Q0t8zSrZ_Y-4"
   },
   "outputs": [],
   "source": [
    "class DimsAnalyzer(Analyzer):\n",
    "    def __init__(self, image_key=\"image\", stats_name=\"user_stats\"):\n",
    "        self.image_key = image_key\n",
    "        report_format = {\"ndims\": None}\n",
    "        super().__init__(stats_name, report_format)\n",
    "\n",
    "    def __call__(self, data):\n",
    "        d = dict(data)\n",
    "        report = deepcopy(self.get_report_format())\n",
    "        report[\"ndims\"] = d[self.image_key].ndim\n",
    "        d[self.stats_name] = report\n",
    "        return d\n",
    "\n",
    "\n",
    "class DimsSummaryAnalyzer(Analyzer):\n",
    "    def __init__(self, stats_name=\"user_stats\"):\n",
    "        report_format = {\"ndims\": None}\n",
    "        super().__init__(stats_name, report_format)\n",
    "        self.update_ops(\"ndims\", SampleOperations())\n",
    "\n",
    "    def __call__(self, data):\n",
    "        report = deepcopy(self.get_report_format())\n",
    "        v_np = concat_val_to_np(data, [self.stats_name, \"ndims\"])\n",
    "        report[\"ndims\"] = self.ops[\"ndims\"].evaluate(v_np)\n",
    "        return report\n"
   ]
  },
  {
   "cell_type": "code",
   "execution_count": 11,
   "metadata": {
    "id": "YdOi5Pv5Onxv"
   },
   "outputs": [],
   "source": [
    "# it has the three default analyzers (ImageStats, FgImageStats, LabelStats)\n",
    "summarizer = SegSummarizer(\"image\", \"label\")\n",
    "summarizer.add_analyzer(DimsAnalyzer(), DimsSummaryAnalyzer())"
   ]
  },
  {
   "cell_type": "code",
   "execution_count": 12,
   "metadata": {
    "id": "VR3At-a5On0k"
   },
   "outputs": [],
   "source": [
    "def my_analyzer(datalist, dataroot, my_summarizer):\n",
    "    keys = [\"image\", \"label\"]\n",
    "    transform_list = [\n",
    "        LoadImaged(keys=keys),\n",
    "        EnsureChannelFirstd(keys=keys),  # this creates label to be (1,H,W,D)\n",
    "        Orientationd(keys=keys, axcodes=\"RAS\"),\n",
    "        EnsureTyped(keys=keys, data_type=\"tensor\"),\n",
    "        Lambdad(keys=\"label\", func=_argmax_if_multichannel),\n",
    "        SqueezeDimd(keys=[\"label\"], dim=0),\n",
    "        ToDeviced(keys=keys, device=\"cuda\" if torch.cuda.is_available() else \"cpu\"),\n",
    "        my_summarizer,\n",
    "    ]\n",
    "\n",
    "    transform = Compose(transforms=list(filter(None, transform_list)))\n",
    "\n",
    "    files, _ = datafold_read(datalist=datalist, basedir=dataroot, fold=-1)\n",
    "    dataset = Dataset(data=files, transform=transform)\n",
    "    dataloader = DataLoader(dataset, batch_size=1, shuffle=False, num_workers=0, collate_fn=no_collation)\n",
    "    result = {DataStatsKeys.SUMMARY: {}, DataStatsKeys.BY_CASE: []}\n",
    "\n",
    "    for batch_data in tqdm(dataloader):\n",
    "        d = batch_data[0]\n",
    "        stats_by_cases = {\n",
    "            DataStatsKeys.BY_CASE_IMAGE_PATH: d[DataStatsKeys.BY_CASE_IMAGE_PATH],\n",
    "            DataStatsKeys.BY_CASE_LABEL_PATH: d[DataStatsKeys.BY_CASE_LABEL_PATH],\n",
    "            DataStatsKeys.IMAGE_STATS: d[DataStatsKeys.IMAGE_STATS],\n",
    "            DataStatsKeys.FG_IMAGE_STATS: d[DataStatsKeys.FG_IMAGE_STATS],\n",
    "            DataStatsKeys.LABEL_STATS: d[DataStatsKeys.LABEL_STATS],\n",
    "            DataStatsKeys.IMAGE_HISTOGRAM: d[DataStatsKeys.IMAGE_HISTOGRAM],\n",
    "            \"user_stats\": d[\"user_stats\"],\n",
    "        }\n",
    "\n",
    "    result[DataStatsKeys.BY_CASE].append(stats_by_cases)\n",
    "    result[DataStatsKeys.SUMMARY] = my_summarizer.summarize(result[DataStatsKeys.BY_CASE])\n",
    "    return result"
   ]
  },
  {
   "cell_type": "code",
   "execution_count": 18,
   "metadata": {
    "colab": {
     "base_uri": "https://localhost:8080/"
    },
    "id": "LE7ij396On6h",
    "outputId": "f44b0799-ce34-4c8a-b8b1-ce2bc11bbb3c"
   },
   "outputs": [
    {
     "name": "stderr",
     "output_type": "stream",
     "text": [
      "monai.transforms.io.dictionary LoadImaged.__init__:image_only: Current default value of argument `image_only=False` has been deprecated since version 1.1. It will be changed to `image_only=True` in version 1.3.\n",
      "  0%|          | 0/24 [00:00<?, ?it/s]monai.transforms.croppad.array CropForeground.__init__:allow_smaller: Current default value of argument `allow_smaller=True` has been deprecated since version 1.2. It will be changed to `allow_smaller=False` in version 1.3.\n",
      "  4%|▍         | 1/24 [00:06<02:26,  6.35s/it]monai.transforms.croppad.array CropForeground.__init__:allow_smaller: Current default value of argument `allow_smaller=True` has been deprecated since version 1.2. It will be changed to `allow_smaller=False` in version 1.3.\n",
      "100%|██████████| 24/24 [00:07<00:00,  3.35it/s]\n"
     ]
    }
   ],
   "source": [
    "result = my_analyzer(datalist_file, dataroot_dir, summarizer)"
   ]
  },
  {
   "cell_type": "code",
   "execution_count": 19,
   "metadata": {
    "colab": {
     "base_uri": "https://localhost:8080/"
    },
    "id": "hRtvjNVlOn9S",
    "outputId": "a6bce8fc-3b42-4acf-e52a-2de0c195c4f1"
   },
   "outputs": [
    {
     "name": "stdout",
     "output_type": "stream",
     "text": [
      "{'ndims': 4}\n"
     ]
    }
   ],
   "source": [
    "print(result[DataStatsKeys.BY_CASE][0][\"user_stats\"])"
   ]
  },
  {
   "cell_type": "code",
   "execution_count": 20,
   "metadata": {
    "colab": {
     "base_uri": "https://localhost:8080/"
    },
    "id": "HV4Gec47PpIX",
    "outputId": "2eadeaa2-878b-4130-ad4a-8b8cc6ace414"
   },
   "outputs": [
    {
     "name": "stdout",
     "output_type": "stream",
     "text": [
      "{'ndims': {'max': 4, 'mean': 4.0, 'median': 4.0, 'min': 4, 'stdev': 0.0, 'percentile': [4, 4, 4, 4], 'percentile_00_5': 4, 'percentile_10_0': 4, 'percentile_90_0': 4, 'percentile_99_5': 4}}\n"
     ]
    }
   ],
   "source": [
    "print(result[DataStatsKeys.SUMMARY][\"user_stats\"])"
   ]
  },
  {
   "cell_type": "markdown",
   "metadata": {
    "id": "TaejWy6JQUSK"
   },
   "source": [
    "##### Add a new stat operation \"sum\""
   ]
  },
  {
   "cell_type": "code",
   "execution_count": 21,
   "metadata": {
    "id": "4S0TAXnDPpLI"
   },
   "outputs": [],
   "source": [
    "op = SampleOperations()\n",
    "# add a new operation\n",
    "op.update({\"sum\": np.sum})\n",
    "\n",
    "\n",
    "class NewDimsSummaryAnalyzer(Analyzer):\n",
    "    def __init__(self, stats_name=\"user_stats\"):\n",
    "        report_format = {\"ndims\": None}\n",
    "        super().__init__(stats_name, report_format)\n",
    "        self.update_ops(\"ndims\", op)\n",
    "\n",
    "    def __call__(self, data):\n",
    "        report = deepcopy(self.get_report_format())\n",
    "        v_np = concat_val_to_np(data, [self.stats_name, \"ndims\"])\n",
    "        report[\"ndims\"] = self.ops[\"ndims\"].evaluate(v_np)\n",
    "        return report"
   ]
  },
  {
   "cell_type": "code",
   "execution_count": 22,
   "metadata": {
    "colab": {
     "base_uri": "https://localhost:8080/"
    },
    "id": "4qqc8nHZPpOM",
    "outputId": "6b2d5e86-7c4d-4656-d343-a61129bb6731"
   },
   "outputs": [
    {
     "name": "stderr",
     "output_type": "stream",
     "text": [
      "monai.transforms.io.dictionary LoadImaged.__init__:image_only: Current default value of argument `image_only=False` has been deprecated since version 1.1. It will be changed to `image_only=True` in version 1.3.\n",
      "100%|██████████| 24/24 [00:00<00:00, 28.37it/s]\n"
     ]
    }
   ],
   "source": [
    "summarizer = SegSummarizer(\"image\", \"label\")\n",
    "summarizer.add_analyzer(DimsAnalyzer(), NewDimsSummaryAnalyzer())\n",
    "result = my_analyzer(datalist_file, dataroot_dir, summarizer)"
   ]
  },
  {
   "cell_type": "code",
   "execution_count": 23,
   "metadata": {
    "colab": {
     "base_uri": "https://localhost:8080/"
    },
    "id": "iUP9tNnKPpR7",
    "outputId": "89930df7-44c0-454e-fd85-a7a9ef0344de"
   },
   "outputs": [
    {
     "name": "stdout",
     "output_type": "stream",
     "text": [
      "{'ndims': {'max': 4, 'mean': 4.0, 'median': 4.0, 'min': 4, 'stdev': 0.0, 'percentile': [4, 4, 4, 4], 'sum': 4, 'percentile_00_5': 4, 'percentile_10_0': 4, 'percentile_90_0': 4, 'percentile_99_5': 4}}\n"
     ]
    }
   ],
   "source": [
    "print(result[DataStatsKeys.SUMMARY][\"user_stats\"])"
   ]
  },
  {
   "cell_type": "code",
   "execution_count": null,
   "metadata": {
    "id": "_0vmgqNbPpU8"
   },
   "outputs": [],
   "source": []
  },
  {
   "cell_type": "markdown",
   "metadata": {
    "id": "qoxljyGFyvn-"
   },
   "source": [
    "## 2. Auto3DSeg\n",
    "#### 2.1 Using the Auto3DSeg AutoRunner Pipeline\n",
    "\n",
    "The `AutoRunner` class provides an interface to run the Auto3DSeg pipeline. It offers high configurability and requires minimal user input to get started. The `AutoRunner` automatically configures multiple neural networks and performs multi-fold training to achieve state-of-the-art performance. In this example, we aim to complete the pipeline within two to four minutes, so we need to make some customizations.\n",
    "\n",
    "Let's set up the `AutoRunner` with the following settings:"
   ]
  },
  {
   "cell_type": "code",
   "execution_count": 19,
   "metadata": {
    "colab": {
     "base_uri": "https://localhost:8080/"
    },
    "id": "Y2aEQKAryvn-",
    "outputId": "be9c1e00-627b-4bd0-f69d-392f7f2aaa82"
   },
   "outputs": [
    {
     "name": "stdout",
     "output_type": "stream",
     "text": [
      "2023-08-21 08:25:56,128 - INFO - AutoRunner using work directory ./auto3dseg_1\n",
      "2023-08-21 08:25:56,132 - INFO - Datalist was copied to work_dir: /workspace/notebook_monai/auto3dseg_1/sim_datalist.json\n",
      "2023-08-21 08:25:56,133 - INFO - Setting num_fold 2 based on the input datalist /workspace/notebook_monai/auto3dseg_1/sim_datalist.json.\n",
      "2023-08-21 08:25:56,136 - INFO - Using user defined command running prefix , will override other settings\n"
     ]
    }
   ],
   "source": [
    "work_dir=\"./auto3dseg_1\"\n",
    "runner = AutoRunner(\n",
    "    work_dir=work_dir,\n",
    "    input={\n",
    "        \"modality\": \"MRI\",\n",
    "        \"datalist\": datalist_file,\n",
    "        \"dataroot\": dataroot_dir,\n",
    "    }\n",
    ")"
   ]
  },
  {
   "cell_type": "markdown",
   "metadata": {
    "id": "LH1EC66lyvn_"
   },
   "source": [
    "#### 2.2 Override the Training Parameters\n",
    "\n",
    "If you wish to use more than one GPU, you can modify the `CUDA_VISIBLE_DEVICES` environment variable or remove the key to utilize all available devices. However, please ensure that the number of GPUs is less than the number of partitions in the dataset to avoid any conflicts.\n",
    "\n",
    "In this section, you can customize the settings for the `AutoRunner` to align with your specific use case. For this example, we will use smaller numbers to explore the functionality and utilization of Auto3DSeg. However, in real-world scenarios, you should adjust these numbers based on the dataset size, task difficulty, and the number of available GPUs."
   ]
  },
  {
   "cell_type": "code",
   "execution_count": 20,
   "metadata": {
    "id": "SqkkT2wuyvn_"
   },
   "outputs": [],
   "source": [
    "max_epochs = 2\n",
    "\n",
    "train_param = {\n",
    "    \"num_epochs_per_validation\": 1,\n",
    "    \"num_images_per_batch\": 2,\n",
    "    \"num_epochs\": max_epochs,\n",
    "    \"num_warmup_epochs\": 1,\n",
    "}\n",
    "runner.set_training_params(train_param)\n",
    "runner.set_num_fold(num_fold=1)"
   ]
  },
  {
   "cell_type": "markdown",
   "metadata": {
    "id": "uqBLuQILyvn_"
   },
   "source": [
    "#### 2.3 Starting the Auto3DSeg Pipeline\n",
    "\n",
    "After setting the desired parameters, we can start the Auto3DSeg pipeline by using the `runner.run()` method. The `AutoRunner` will execute all the necessary steps to train the model.\n",
    "\n",
    "Each module of Auto3DSeg can be used individually for different purposes, and the functions/methods within the components can be customized by users.\n",
    "\n",
    "The Auto3DSeg pipeline consists of the following steps:\n",
    "\n",
    "- Step 1: [Data Analyzer](https://github.com/Project-MONAI/tutorials/blob/main/auto3dseg/docs/data_analyzer.md)\n",
    "- Step 2: [Algorithm Generation](https://github.com/Project-MONAI/tutorials/blob/main/auto3dseg/docs/algorithm_generation.md)\n",
    "- Step 3: [Model Training, Validation, and Inference](https://github.com/Project-MONAI/tutorials/blob/main/auto3dseg/docs/bundle.md)\n",
    "- Step 4 (Optional): [Hyper-parameter Optimization](https://github.com/Project-MONAI/tutorials/blob/main/auto3dseg/docs/hpo.md)\n",
    "- Step 5: [Model Ensembling](https://github.com/Project-MONAI/tutorials/blob/main/auto3dseg/docs/ensemble.md)"
   ]
  },
  {
   "cell_type": "code",
   "execution_count": 21,
   "metadata": {
    "colab": {
     "base_uri": "https://localhost:8080/"
    },
    "id": "lRHwy3mQyvn_",
    "outputId": "9c087c82-5886-49de-861c-d4c8073e63b5"
   },
   "outputs": [
    {
     "name": "stdout",
     "output_type": "stream",
     "text": [
      "2023-08-21 08:26:15,124 - INFO - Running data analysis...\n",
      "2023-08-21 08:26:15,125 - INFO - Found 1 GPUs for data analyzing!\n"
     ]
    },
    {
     "name": "stderr",
     "output_type": "stream",
     "text": [
      "100%|██████████| 24/24 [00:01<00:00, 21.84it/s]\n"
     ]
    },
    {
     "name": "stdout",
     "output_type": "stream",
     "text": [
      "2023-08-21 08:26:16,292 - INFO - Writing data stats to /workspace/notebook_monai/auto3dseg_1/datastats.yaml.\n",
      "2023-08-21 08:26:16,304 - INFO - Writing by-case data stats to /workspace/notebook_monai/auto3dseg_1/datastats_by_case.yaml, this may take a while.\n",
      "2023-08-21 08:26:16,411 - INFO - BundleGen from https://github.com/Project-MONAI/research-contributions/releases/download/algo_templates/e01d67a.tar.gz\n"
     ]
    },
    {
     "name": "stderr",
     "output_type": "stream",
     "text": [
      "algo_templates.tar.gz: 96.0kB [00:00, 139kB/s]                             "
     ]
    },
    {
     "name": "stdout",
     "output_type": "stream",
     "text": [
      "2023-08-21 08:26:17,121 - INFO - Downloaded: /tmp/tmpgy8xmh7f/algo_templates.tar.gz\n",
      "2023-08-21 08:26:17,121 - INFO - Expected md5 is None, skip md5 check for file /tmp/tmpgy8xmh7f/algo_templates.tar.gz.\n",
      "2023-08-21 08:26:17,122 - INFO - Writing into directory: /workspace/notebook_monai/auto3dseg_1.\n"
     ]
    },
    {
     "name": "stderr",
     "output_type": "stream",
     "text": [
      "\n"
     ]
    },
    {
     "name": "stdout",
     "output_type": "stream",
     "text": [
      "2023-08-21 08:26:17,458 - INFO - Generated:/workspace/notebook_monai/auto3dseg_1/dints_0\n",
      "2023-08-21 08:26:17,529 - INFO - Generated:/workspace/notebook_monai/auto3dseg_1/segresnet_0\n",
      "2023-08-21 08:26:17,557 - INFO - segresnet2d_0 is skipped! SegresNet2D is skipped due to median spacing of [1.0, 1.0, 1.0],  which means the dataset is not highly anisotropic, e.g. spacing[2] < 3*(spacing[0] + spacing[1])/2) .\n",
      "2023-08-21 08:26:17,654 - INFO - Generated:/workspace/notebook_monai/auto3dseg_1/swinunetr_0\n",
      "2023-08-21 08:26:17,696 - INFO - The keys num_warmup_epochs cannot be found in the /workspace/notebook_monai/auto3dseg_1/dints_0/configs/hyper_parameters.yaml for training. Skipped overriding key num_warmup_epochs.\n",
      "2023-08-21 08:26:17,698 - INFO - ['python', '/workspace/notebook_monai/auto3dseg_1/dints_0/scripts/train.py', 'run', \"--config_file='/workspace/notebook_monai/auto3dseg_1/dints_0/configs/hyper_parameters.yaml,/workspace/notebook_monai/auto3dseg_1/dints_0/configs/hyper_parameters_search.yaml,/workspace/notebook_monai/auto3dseg_1/dints_0/configs/network.yaml,/workspace/notebook_monai/auto3dseg_1/dints_0/configs/network_search.yaml,/workspace/notebook_monai/auto3dseg_1/dints_0/configs/transforms_infer.yaml,/workspace/notebook_monai/auto3dseg_1/dints_0/configs/transforms_train.yaml,/workspace/notebook_monai/auto3dseg_1/dints_0/configs/transforms_validate.yaml'\", '--training#num_epochs_per_validation=1', '--training#num_images_per_batch=2', '--training#num_epochs=2']\n",
      "config_file ['/workspace/notebook_monai/auto3dseg_1/dints_0/configs/hyper_parameters.yaml', '/workspace/notebook_monai/auto3dseg_1/dints_0/configs/hyper_parameters_search.yaml', '/workspace/notebook_monai/auto3dseg_1/dints_0/configs/network.yaml', '/workspace/notebook_monai/auto3dseg_1/dints_0/configs/network_search.yaml', '/workspace/notebook_monai/auto3dseg_1/dints_0/configs/transforms_infer.yaml', '/workspace/notebook_monai/auto3dseg_1/dints_0/configs/transforms_train.yaml', '/workspace/notebook_monai/auto3dseg_1/dints_0/configs/transforms_validate.yaml']\n",
      "training#num_epochs_per_validation 1\n",
      "training#num_images_per_batch 2\n",
      "training#num_epochs 2\n"
     ]
    },
    {
     "name": "stderr",
     "output_type": "stream",
     "text": [
      "Environment variable `TORCH_ALLOW_TF32_CUBLAS_OVERRIDE = 1` is set.\n",
      "  This environment variable may enable TF32 mode accidentally and affect precision.\n",
      "  See https://docs.monai.io/en/latest/precision_accelerating.html#precision-and-accelerating\n",
      "This DataLoader will create 8 worker processes in total. Our suggested max number of worker in current system is 4, which is smaller than what this DataLoader is going to create. Please be aware that excessive worker creation might get DataLoader running slow or even freeze, lower the worker number to avoid potential slowness/freeze if necessary.\n",
      "dints_0 - training ...: 100%|██████████| 2/2 [00:44<00:00, 22.18s/round]"
     ]
    },
    {
     "name": "stdout",
     "output_type": "stream",
     "text": [
      "dints_0 - validation at original spacing/resolution\n"
     ]
    },
    {
     "name": "stderr",
     "output_type": "stream",
     "text": [
      "\n",
      "2023-08-21 08:27:15,462 - WARNING - dints_0 - training: finished\n"
     ]
    },
    {
     "name": "stdout",
     "output_type": "stream",
     "text": [
      "2023-08-21 08:27:18,368 - INFO - ['python', '/workspace/notebook_monai/auto3dseg_1/segresnet_0/scripts/train.py', 'run', \"--config_file='/workspace/notebook_monai/auto3dseg_1/segresnet_0/configs/hyper_parameters.yaml'\", '--num_epochs_per_validation=1', '--num_images_per_batch=2', '--num_epochs=2', '--num_warmup_epochs=1']\n"
     ]
    },
    {
     "name": "stderr",
     "output_type": "stream",
     "text": [
      "Environment variable `TORCH_ALLOW_TF32_CUBLAS_OVERRIDE = 1` is set.\n",
      "  This environment variable may enable TF32 mode accidentally and affect precision.\n",
      "  See https://docs.monai.io/en/latest/precision_accelerating.html#precision-and-accelerating\n",
      "segresnet_0 - training: 100%|██████████| 2/2 [00:13<00:00,  6.85s/epoch]\n"
     ]
    },
    {
     "name": "stdout",
     "output_type": "stream",
     "text": [
      "2023-08-21 08:27:41,480 - INFO - ['python', '/workspace/notebook_monai/auto3dseg_1/swinunetr_0/scripts/train.py', 'run', \"--config_file='/workspace/notebook_monai/auto3dseg_1/swinunetr_0/configs/hyper_parameters.yaml,/workspace/notebook_monai/auto3dseg_1/swinunetr_0/configs/network.yaml,/workspace/notebook_monai/auto3dseg_1/swinunetr_0/configs/transforms_infer.yaml,/workspace/notebook_monai/auto3dseg_1/swinunetr_0/configs/transforms_train.yaml,/workspace/notebook_monai/auto3dseg_1/swinunetr_0/configs/transforms_validate.yaml'\", '--num_epochs_per_validation=1', '--num_images_per_batch=2', '--num_epochs=2', '--num_warmup_epochs=1']\n",
      "config_file ['/workspace/notebook_monai/auto3dseg_1/swinunetr_0/configs/hyper_parameters.yaml', '/workspace/notebook_monai/auto3dseg_1/swinunetr_0/configs/network.yaml', '/workspace/notebook_monai/auto3dseg_1/swinunetr_0/configs/transforms_infer.yaml', '/workspace/notebook_monai/auto3dseg_1/swinunetr_0/configs/transforms_train.yaml', '/workspace/notebook_monai/auto3dseg_1/swinunetr_0/configs/transforms_validate.yaml']\n",
      "num_epochs_per_validation 1\n",
      "num_images_per_batch 2\n",
      "num_epochs 2\n",
      "num_warmup_epochs 1\n"
     ]
    },
    {
     "name": "stderr",
     "output_type": "stream",
     "text": [
      "Environment variable `TORCH_ALLOW_TF32_CUBLAS_OVERRIDE = 1` is set.\n",
      "  This environment variable may enable TF32 mode accidentally and affect precision.\n",
      "  See https://docs.monai.io/en/latest/precision_accelerating.html#precision-and-accelerating\n"
     ]
    },
    {
     "name": "stdout",
     "output_type": "stream",
     "text": [
      "2023-08-21 08:27:53,368 - INFO - Downloaded: /workspace/notebook_monai/auto3dseg_1/swinunetr_0/pretrained_model/swin_unetr.base_5000ep_f48_lr2e-4_pretrained.pt\n",
      "2023-08-21 08:27:53,368 - INFO - Expected md5 is None, skip md5 check for file /workspace/notebook_monai/auto3dseg_1/swinunetr_0/pretrained_model/swin_unetr.base_5000ep_f48_lr2e-4_pretrained.pt.\n"
     ]
    },
    {
     "name": "stderr",
     "output_type": "stream",
     "text": [
      "This DataLoader will create 8 worker processes in total. Our suggested max number of worker in current system is 4, which is smaller than what this DataLoader is going to create. Please be aware that excessive worker creation might get DataLoader running slow or even freeze, lower the worker number to avoid potential slowness/freeze if necessary.\n",
      "swinunetr_0 - training ...: 100%|██████████| 2/2 [00:22<00:00, 11.39s/round]\n",
      "2023-08-21 08:28:18,942 - WARNING - swinunetr_0 - training: finished\n"
     ]
    },
    {
     "name": "stdout",
     "output_type": "stream",
     "text": [
      "2023-08-21 08:28:20,054 - INFO - Ensembling using single GPU!\n",
      "2023-08-21 08:28:20,054 - INFO - The output_dir is not specified. /workspace/notebook_monai/auto3dseg_1/ensemble_output will be used to save ensemble predictions.\n",
      "2023-08-21 08:28:20,055 - INFO - Directory /workspace/notebook_monai/auto3dseg_1/ensemble_output is created to save ensemble predictions\n",
      "2023-08-21 08:28:20,091 - INFO - Auto3Dseg picked the following networks to ensemble:\n",
      "2023-08-21 08:28:20,091 - INFO - swinunetr_0\n",
      "2023-08-21 08:28:20,092 - INFO - Auto3Dseg ensemble prediction outputs will be saved in /workspace/notebook_monai/auto3dseg_1/ensemble_output.\n"
     ]
    },
    {
     "name": "stderr",
     "output_type": "stream",
     "text": [
      "Ensembling (rank 0)...:   0%|          | 0/8 [00:00<?, ?it/s]"
     ]
    },
    {
     "name": "stdout",
     "output_type": "stream",
     "text": [
      "config_file ['/workspace/notebook_monai/auto3dseg_1/swinunetr_0/configs/hyper_parameters.yaml', '/workspace/notebook_monai/auto3dseg_1/swinunetr_0/configs/transforms_infer.yaml', '/workspace/notebook_monai/auto3dseg_1/swinunetr_0/configs/transforms_train.yaml', '/workspace/notebook_monai/auto3dseg_1/swinunetr_0/configs/transforms_validate.yaml', '/workspace/notebook_monai/auto3dseg_1/swinunetr_0/configs/network.yaml']\n",
      "rank 0\n",
      "image_save_func {'_target_': 'SaveImage', 'output_dir': '/workspace/notebook_monai/auto3dseg_1/ensemble_output', 'output_postfix': 'ensemble', 'output_dtype': '$np.uint8', 'resample': False, 'print_log': False, 'savepath_in_metadict': True, 'data_root_dir': './auto3dseg/sim_dataroot', 'separate_folder': False}\n"
     ]
    },
    {
     "name": "stderr",
     "output_type": "stream",
     "text": [
      "Ensembling (rank 0)...:  12%|█▎        | 1/8 [00:01<00:08,  1.22s/it]"
     ]
    },
    {
     "name": "stdout",
     "output_type": "stream",
     "text": [
      "config_file ['/workspace/notebook_monai/auto3dseg_1/swinunetr_0/configs/hyper_parameters.yaml', '/workspace/notebook_monai/auto3dseg_1/swinunetr_0/configs/transforms_infer.yaml', '/workspace/notebook_monai/auto3dseg_1/swinunetr_0/configs/transforms_train.yaml', '/workspace/notebook_monai/auto3dseg_1/swinunetr_0/configs/transforms_validate.yaml', '/workspace/notebook_monai/auto3dseg_1/swinunetr_0/configs/network.yaml']\n",
      "rank 0\n",
      "image_save_func {'_target_': 'SaveImage', 'output_dir': '/workspace/notebook_monai/auto3dseg_1/ensemble_output', 'output_postfix': 'ensemble', 'output_dtype': '$np.uint8', 'resample': False, 'print_log': False, 'savepath_in_metadict': True, 'data_root_dir': './auto3dseg/sim_dataroot', 'separate_folder': False}\n"
     ]
    },
    {
     "name": "stderr",
     "output_type": "stream",
     "text": [
      "Ensembling (rank 0)...:  25%|██▌       | 2/8 [00:01<00:05,  1.09it/s]"
     ]
    },
    {
     "name": "stdout",
     "output_type": "stream",
     "text": [
      "config_file ['/workspace/notebook_monai/auto3dseg_1/swinunetr_0/configs/hyper_parameters.yaml', '/workspace/notebook_monai/auto3dseg_1/swinunetr_0/configs/transforms_infer.yaml', '/workspace/notebook_monai/auto3dseg_1/swinunetr_0/configs/transforms_train.yaml', '/workspace/notebook_monai/auto3dseg_1/swinunetr_0/configs/transforms_validate.yaml', '/workspace/notebook_monai/auto3dseg_1/swinunetr_0/configs/network.yaml']\n",
      "rank 0\n",
      "image_save_func {'_target_': 'SaveImage', 'output_dir': '/workspace/notebook_monai/auto3dseg_1/ensemble_output', 'output_postfix': 'ensemble', 'output_dtype': '$np.uint8', 'resample': False, 'print_log': False, 'savepath_in_metadict': True, 'data_root_dir': './auto3dseg/sim_dataroot', 'separate_folder': False}\n"
     ]
    },
    {
     "name": "stderr",
     "output_type": "stream",
     "text": [
      "Ensembling (rank 0)...:  38%|███▊      | 3/8 [00:02<00:04,  1.23it/s]"
     ]
    },
    {
     "name": "stdout",
     "output_type": "stream",
     "text": [
      "config_file ['/workspace/notebook_monai/auto3dseg_1/swinunetr_0/configs/hyper_parameters.yaml', '/workspace/notebook_monai/auto3dseg_1/swinunetr_0/configs/transforms_infer.yaml', '/workspace/notebook_monai/auto3dseg_1/swinunetr_0/configs/transforms_train.yaml', '/workspace/notebook_monai/auto3dseg_1/swinunetr_0/configs/transforms_validate.yaml', '/workspace/notebook_monai/auto3dseg_1/swinunetr_0/configs/network.yaml']\n",
      "rank 0\n",
      "image_save_func {'_target_': 'SaveImage', 'output_dir': '/workspace/notebook_monai/auto3dseg_1/ensemble_output', 'output_postfix': 'ensemble', 'output_dtype': '$np.uint8', 'resample': False, 'print_log': False, 'savepath_in_metadict': True, 'data_root_dir': './auto3dseg/sim_dataroot', 'separate_folder': False}\n"
     ]
    },
    {
     "name": "stderr",
     "output_type": "stream",
     "text": [
      "Ensembling (rank 0)...:  50%|█████     | 4/8 [00:03<00:03,  1.31it/s]"
     ]
    },
    {
     "name": "stdout",
     "output_type": "stream",
     "text": [
      "config_file ['/workspace/notebook_monai/auto3dseg_1/swinunetr_0/configs/hyper_parameters.yaml', '/workspace/notebook_monai/auto3dseg_1/swinunetr_0/configs/transforms_infer.yaml', '/workspace/notebook_monai/auto3dseg_1/swinunetr_0/configs/transforms_train.yaml', '/workspace/notebook_monai/auto3dseg_1/swinunetr_0/configs/transforms_validate.yaml', '/workspace/notebook_monai/auto3dseg_1/swinunetr_0/configs/network.yaml']\n",
      "rank 0\n",
      "image_save_func {'_target_': 'SaveImage', 'output_dir': '/workspace/notebook_monai/auto3dseg_1/ensemble_output', 'output_postfix': 'ensemble', 'output_dtype': '$np.uint8', 'resample': False, 'print_log': False, 'savepath_in_metadict': True, 'data_root_dir': './auto3dseg/sim_dataroot', 'separate_folder': False}\n"
     ]
    },
    {
     "name": "stderr",
     "output_type": "stream",
     "text": [
      "Ensembling (rank 0)...:  62%|██████▎   | 5/8 [00:03<00:02,  1.35it/s]"
     ]
    },
    {
     "name": "stdout",
     "output_type": "stream",
     "text": [
      "config_file ['/workspace/notebook_monai/auto3dseg_1/swinunetr_0/configs/hyper_parameters.yaml', '/workspace/notebook_monai/auto3dseg_1/swinunetr_0/configs/transforms_infer.yaml', '/workspace/notebook_monai/auto3dseg_1/swinunetr_0/configs/transforms_train.yaml', '/workspace/notebook_monai/auto3dseg_1/swinunetr_0/configs/transforms_validate.yaml', '/workspace/notebook_monai/auto3dseg_1/swinunetr_0/configs/network.yaml']\n",
      "rank 0\n",
      "image_save_func {'_target_': 'SaveImage', 'output_dir': '/workspace/notebook_monai/auto3dseg_1/ensemble_output', 'output_postfix': 'ensemble', 'output_dtype': '$np.uint8', 'resample': False, 'print_log': False, 'savepath_in_metadict': True, 'data_root_dir': './auto3dseg/sim_dataroot', 'separate_folder': False}\n"
     ]
    },
    {
     "name": "stderr",
     "output_type": "stream",
     "text": [
      "Ensembling (rank 0)...:  75%|███████▌  | 6/8 [00:04<00:01,  1.39it/s]"
     ]
    },
    {
     "name": "stdout",
     "output_type": "stream",
     "text": [
      "config_file ['/workspace/notebook_monai/auto3dseg_1/swinunetr_0/configs/hyper_parameters.yaml', '/workspace/notebook_monai/auto3dseg_1/swinunetr_0/configs/transforms_infer.yaml', '/workspace/notebook_monai/auto3dseg_1/swinunetr_0/configs/transforms_train.yaml', '/workspace/notebook_monai/auto3dseg_1/swinunetr_0/configs/transforms_validate.yaml', '/workspace/notebook_monai/auto3dseg_1/swinunetr_0/configs/network.yaml']\n",
      "rank 0\n",
      "image_save_func {'_target_': 'SaveImage', 'output_dir': '/workspace/notebook_monai/auto3dseg_1/ensemble_output', 'output_postfix': 'ensemble', 'output_dtype': '$np.uint8', 'resample': False, 'print_log': False, 'savepath_in_metadict': True, 'data_root_dir': './auto3dseg/sim_dataroot', 'separate_folder': False}\n"
     ]
    },
    {
     "name": "stderr",
     "output_type": "stream",
     "text": [
      "Ensembling (rank 0)...:  88%|████████▊ | 7/8 [00:05<00:00,  1.40it/s]"
     ]
    },
    {
     "name": "stdout",
     "output_type": "stream",
     "text": [
      "config_file ['/workspace/notebook_monai/auto3dseg_1/swinunetr_0/configs/hyper_parameters.yaml', '/workspace/notebook_monai/auto3dseg_1/swinunetr_0/configs/transforms_infer.yaml', '/workspace/notebook_monai/auto3dseg_1/swinunetr_0/configs/transforms_train.yaml', '/workspace/notebook_monai/auto3dseg_1/swinunetr_0/configs/transforms_validate.yaml', '/workspace/notebook_monai/auto3dseg_1/swinunetr_0/configs/network.yaml']\n",
      "rank 0\n",
      "image_save_func {'_target_': 'SaveImage', 'output_dir': '/workspace/notebook_monai/auto3dseg_1/ensemble_output', 'output_postfix': 'ensemble', 'output_dtype': '$np.uint8', 'resample': False, 'print_log': False, 'savepath_in_metadict': True, 'data_root_dir': './auto3dseg/sim_dataroot', 'separate_folder': False}\n"
     ]
    },
    {
     "name": "stderr",
     "output_type": "stream",
     "text": [
      "Ensembling (rank 0)...: 100%|██████████| 8/8 [00:06<00:00,  1.30it/s]\n",
      "2023-08-21 08:28:26,252 - INFO - Auto3Dseg pipeline is completed successfully.\n"
     ]
    }
   ],
   "source": [
    "runner.run()"
   ]
  },
  {
   "cell_type": "markdown",
   "metadata": {
    "id": "ZZnTqf7myvn_"
   },
   "source": [
    "## 3. Inspecting Predictions\n",
    "\n",
    "Now that we have completed the Auto3DSeg pipeline and obtained the ensembled output, we can inspect the predictions and compare the results."
   ]
  },
  {
   "cell_type": "code",
   "execution_count": 24,
   "metadata": {
    "id": "d_WIfRHRcpNl"
   },
   "outputs": [],
   "source": [
    "def visualize_inference(dataroot_dir, work_dir, datalist_file, sim_dim, index):\n",
    "    with open(os.path.join(dataroot_dir, datalist_file), \"r\") as f:\n",
    "        sim_datalist = json.load(f)\n",
    "\n",
    "    dataset = sim_datalist[\"testing\"]\n",
    "\n",
    "    if index < 0 or index >= len(dataset):\n",
    "        print(\"Invalid index.\")\n",
    "        return\n",
    "\n",
    "    entry = dataset[index]\n",
    "    image_name = entry[\"image\"].split(\".\")[0]\n",
    "\n",
    "    prediction_nib = nib.load(os.path.join(work_dir, \"ensemble_output\", image_name + \"_ensemble\" + \".nii.gz\"))\n",
    "    pred = np.array(prediction_nib.dataobj)\n",
    "\n",
    "    img_nib = nib.load(os.path.join(dataroot_dir, entry[\"image\"]))\n",
    "    lbl_nib = nib.load(os.path.join(dataroot_dir, entry[\"label\"]))\n",
    "    img = np.array(img_nib.dataobj)\n",
    "    lbl = np.array(lbl_nib.dataobj)\n",
    "\n",
    "    # Display original image\n",
    "    plt.figure(figsize=(15, 5))\n",
    "    plt.subplot(1, 3, 1)\n",
    "    plt.imshow(img[sim_dim[2] // 2])\n",
    "    plt.title(\"Original Image\")\n",
    "    plt.colorbar(shrink=0.55)\n",
    "\n",
    "    # Display ground truth label\n",
    "    plt.subplot(1, 3, 2)\n",
    "    plt.imshow(lbl[sim_dim[2] // 2])\n",
    "    plt.title(\"Ground Truth Label\")\n",
    "    plt.colorbar(shrink=0.55)\n",
    "\n",
    "    # Display predicted label\n",
    "    plt.subplot(1, 3, 3)\n",
    "    if pred.ndim == 4:\n",
    "        plt.imshow(pred[32, :, :, 1])\n",
    "    else:\n",
    "        plt.imshow(pred[32])\n",
    "    plt.title(\"Predicted Label\")\n",
    "    plt.colorbar(shrink=0.55)\n",
    "\n",
    "    plt.tight_layout()\n",
    "    plt.show()\n",
    "\n"
   ]
  },
  {
   "cell_type": "code",
   "execution_count": 26,
   "metadata": {
    "colab": {
     "base_uri": "https://localhost:8080/",
     "height": 405
    },
    "id": "QMe8Xr5hi2mW",
    "outputId": "e2e121e7-30bb-4d29-c307-2d7951797f7c"
   },
   "outputs": [
    {
     "data": {
      "image/png": "[encoded data removed]",
      "text/plain": [
       "<Figure size 1500x500 with 6 Axes>"
      ]
     },
     "metadata": {},
     "output_type": "display_data"
    }
   ],
   "source": [
    "# Example usage\n",
    "dataroot_dir = \"./auto3dseg/sim_dataroot\"\n",
    "work_dir = \"./auto3dseg_1\"\n",
    "visualize_inference(dataroot_dir, work_dir, \"sim_datalist.json\", sim_dim, index=3)"
   ]
  },
  {
   "cell_type": "markdown",
   "metadata": {
    "id": "caJcw6oVFVUq"
   },
   "source": [
    "#### evaluate with more epoch"
   ]
  },
  {
   "cell_type": "code",
   "execution_count": 27,
   "metadata": {
    "colab": {
     "base_uri": "https://localhost:8080/"
    },
    "id": "rB1eQ9BAFVgo",
    "outputId": "b0455fef-dca5-441d-e68a-676d37e5adc8"
   },
   "outputs": [
    {
     "name": "stdout",
     "output_type": "stream",
     "text": [
      "2023-08-21 08:45:11,622 - INFO - AutoRunner using work directory ./auto3dseg_2\n",
      "2023-08-21 08:45:11,626 - INFO - Datalist was copied to work_dir: /workspace/notebook_monai/auto3dseg_2/sim_datalist.json\n",
      "2023-08-21 08:45:11,627 - INFO - Setting num_fold 2 based on the input datalist /workspace/notebook_monai/auto3dseg_2/sim_datalist.json.\n",
      "2023-08-21 08:45:11,630 - INFO - Using user defined command running prefix , will override other settings\n"
     ]
    }
   ],
   "source": [
    "work_dir=\"./auto3dseg_2\"\n",
    "runner = AutoRunner(\n",
    "    work_dir=work_dir,\n",
    "    input={\n",
    "        \"modality\": \"MRI\",\n",
    "        \"datalist\": datalist_file,\n",
    "        \"dataroot\": dataroot_dir,\n",
    "    }\n",
    ")"
   ]
  },
  {
   "cell_type": "code",
   "execution_count": 28,
   "metadata": {
    "id": "70L9crtjFVpT"
   },
   "outputs": [],
   "source": [
    "max_epochs = 16\n",
    "\n",
    "train_param = {\n",
    "    \"num_epochs_per_validation\": 1,\n",
    "    \"num_images_per_batch\": 4,\n",
    "    \"num_epochs\": max_epochs,\n",
    "    \"num_warmup_epochs\": 1,\n",
    "}\n",
    "runner.set_training_params(train_param)\n",
    "runner.set_num_fold(num_fold=1)"
   ]
  },
  {
   "cell_type": "code",
   "execution_count": null,
   "metadata": {
    "colab": {
     "base_uri": "https://localhost:8080/"
    },
    "id": "ULXVRfPpFVsn",
    "outputId": "0346e66e-f40c-4742-b7b0-1a135bc15fce"
   },
   "outputs": [],
   "source": [
    "runner.run( )"
   ]
  },
  {
   "cell_type": "markdown",
   "metadata": {
    "id": "oY76-262rvFA"
   },
   "source": [
    "#### compare train epoch 2 vs 16"
   ]
  },
  {
   "cell_type": "code",
   "execution_count": null,
   "metadata": {
    "colab": {
     "base_uri": "https://localhost:8080/",
     "height": 793
    },
    "id": "LPnLWSmDrKI3",
    "outputId": "1e5dbe97-67e6-423a-96d5-174e1687d8d4"
   },
   "outputs": [
    {
     "data": {
      "image/png": "[encoded data removed]",
      "text/plain": [
       "<Figure size 1500x500 with 6 Axes>"
      ]
     },
     "metadata": {},
     "output_type": "display_data"
    },
    {
     "data": {
      "image/png": "[encoded data removed]",
      "text/plain": [
       "<Figure size 1500x500 with 6 Axes>"
      ]
     },
     "metadata": {},
     "output_type": "display_data"
    }
   ],
   "source": [
    "# experiment with epoch 2\n",
    "index=7 #  from 0 to 7\n",
    "dataroot_dir = \"./auto3dseg/sim_dataroot\"\n",
    "work_dir = \"./auto3dseg_1\"\n",
    "visualize_inference(dataroot_dir, work_dir, \"sim_datalist.json\", sim_dim, index=index)\n",
    "# experiment with epoch 16\n",
    "work_dir = \"./auto3dseg_2\"\n",
    "visualize_inference(dataroot_dir, work_dir, \"sim_datalist.json\", sim_dim, index=index)"
   ]
  },
  {
   "cell_type": "markdown",
   "metadata": {
    "id": "gm82CSPCXNE5"
   },
   "source": [
    "#### modify parameters from  pretrained model"
   ]
  },
  {
   "cell_type": "code",
   "execution_count": null,
   "metadata": {
    "id": "u6dMZ6DTsv2c"
   },
   "outputs": [],
   "source": [
    "!mkdir -p /content/auto3dseg_3\n",
    "!cp -rf /content/auto3dseg_1/algorithm_templates /content/auto3dseg_3/."
   ]
  },
  {
   "cell_type": "markdown",
   "metadata": {},
   "source": [
    "#### edit config files\n",
    "in auto3dseg_3"
   ]
  },
  {
   "cell_type": "code",
   "execution_count": null,
   "metadata": {
    "colab": {
     "base_uri": "https://localhost:8080/"
    },
    "id": "4AuLrUi4XNc5",
    "outputId": "9acd862b-b244-4a97-fc58-72f18ba3d626"
   },
   "outputs": [
    {
     "name": "stderr",
     "output_type": "stream",
     "text": [
      "2023-08-14 06:22:34,389 - INFO - AutoRunner using work directory ./helloworld_work_dir3\n",
      "2023-08-14 06:22:34,392 - INFO - Datalist was copied to work_dir: /content/helloworld_work_dir3/sim_datalist.json\n",
      "2023-08-14 06:22:34,396 - INFO - Setting num_fold 2 based on the input datalist /content/helloworld_work_dir3/sim_datalist.json.\n"
     ]
    }
   ],
   "source": [
    "work_dir=\"./auto3dseg_3\"\n",
    "runner = AutoRunner(\n",
    "    work_dir=work_dir,\n",
    "    input={\n",
    "        \"modality\": \"MRI\",\n",
    "        \"datalist\": datalist_file,\n",
    "        \"dataroot\": dataroot_dir,\n",
    "    }\n",
    ")"
   ]
  },
  {
   "cell_type": "code",
   "execution_count": null,
   "metadata": {
    "id": "0nXTf9Vfsa2y"
   },
   "outputs": [],
   "source": [
    "max_epochs = 4\n",
    "\n",
    "train_param = {\n",
    "    \"num_epochs_per_validation\": 1,\n",
    "    \"num_images_per_batch\": 4,\n",
    "    \"num_epochs\": max_epochs,\n",
    "    \"num_warmup_epochs\": 1,\n",
    "}\n",
    "runner.set_training_params(train_param)\n",
    "runner.set_num_fold(num_fold=1)"
   ]
  },
  {
   "cell_type": "code",
   "execution_count": null,
   "metadata": {
    "colab": {
     "base_uri": "https://localhost:8080/"
    },
    "id": "lD_tsx8xXNf-",
    "outputId": "1120fd86-9f09-4336-cea5-e4149b3df431"
   },
   "outputs": [],
   "source": [
    "runner.run()"
   ]
  },
  {
   "cell_type": "code",
   "execution_count": null,
   "metadata": {
    "id": "zDHoigb4XNmH"
   },
   "outputs": [],
   "source": [
    "# experiment with epoch 2\n",
    "index=7 #  from 0 to 7\n",
    "dataroot_dir = \"./auto3dseg/sim_dataroot\"\n",
    "work_dir = \"./auto3dseg_1\"\n",
    "visualize_inference(dataroot_dir, work_dir, \"sim_datalist.json\", sim_dim, index=index)\n",
    "# experiment with epoch 16\n",
    "work_dir = \"./auto3dseg_3\"\n",
    "visualize_inference(dataroot_dir, work_dir, \"sim_datalist.json\", sim_dim, index=index)"
   ]
  },
  {
   "cell_type": "code",
   "execution_count": null,
   "metadata": {},
   "outputs": [],
   "source": []
  },
  {
   "cell_type": "markdown",
   "metadata": {
    "id": "J8HHkjaMyvn_"
   },
   "source": [
    "## 4. Optional Exercises\n",
    "The optional exercises provide additional tasks for those who want to explore and go beyond the scope of the tutorial.\n",
    "\n",
    "#### 4.1 Additional Algorithms and Longer Training\n",
    "In our example above, we used training parameters to make sure that we could run the example in roughly two minutes.  However, you can experiment with different algorithms and longer training durations using the existing dataset.\n",
    "\n",
    "As you explore more options, you'll notice the ability to customize various parameters depending on the algorithms. For example, the DiNTS network has two phases: a Search phase and a Train phase. You can independently modify the parameters for each of these sub-sections within DiNTS.\n",
    "\n",
    "#### 4.2 Use a Real Dataset\n",
    "In our \"Hello World\" example, we utilized a synthetic dataset to explore the functionalities of Auto3DSeg. However, the true benefits of Auto3DSeg can be seen when using it with real-world datasets.\n",
    "\n",
    "We provide an additional notebook called `msd_datalist_generator.ipynb` in the sidebar, which can help generate the `datalist.json` for any of the Medical Segmentation Decathlon datasets. You can leverage MONAI's wrapper classes to retrieve any of the 10 different segmentation tasks from the Medical Segmentation Decathlon dataset and apply the power of Auto3DSeg to the task.\n",
    "\n",
    "\n",
    "#### 4.3 Hyper-Parameter Optimization\n",
    "We introduced some basic options for parameter selection in Auto3DSeg. However, you can further explore a more robust hyper-parameter optimization (HPO) experience by utilizing one of the supported third-party HPO packages.\n",
    "\n",
    "We provide a base HPO generator class called `HPOGen`, which supports interactions between our algorithms and third-party HPO packages such as Microsoft Neural Network Intelligence (NNI) and Optuna.\n",
    "\n",
    "You can refer to the following tutorials to explore HPO with Auto3DSeg:\n",
    "- [NNI Tutorial](https://github.com/Project-MONAI/tutorials/blob/main/auto3dseg/notebooks/hpo_nni.ipynb)\n",
    "- [Optuna Tutorial](https://github.com/Project-MONAI/tutorials/blob/main/auto3dseg/notebooks/hpo_optuna.ipynb)\n",
    "\n",
    "#### 4.4 Implement Each Step of the Pipeline\n",
    "\n",
    "In this notebook, we utilized the `AutoRunner` class to launch the Auto3DSeg pipeline. However, this class is just a wrapper for multiple internal API calls. You can explore calling each of these APIs and modifying additional parameters during each phase.\n",
    "\n",
    "We provide a notebook called `auto3dseg_autorunner_ref_api.ipynb` that walks you through how to call each of the internal API functions within AutoRunner. This allows you to have more fine-grained control over the pipeline and customize parameters during each step.\n",
    "\n",
    "Feel free to explore these optional exercises to further enhance your understanding and utilization of Auto3DSeg."
   ]
  },
  {
   "cell_type": "markdown",
   "metadata": {
    "id": "uhe6jv8iyvn_"
   },
   "source": [
    "## 5. Conclusion\n",
    "Congratulations! You have completed the entire Auto3DSeg pipeline. Throughout the process, you observed the algorithms learning from the dataset and generating predictions for both background and foreground voxels.\n",
    "\n",
    "Auto3DSeg and AutoRunner offer high configurability, allowing you to customize various aspects of the pipeline. To improve your results, you can consider increasing the training time, exploring different ensemble methods, or utilizing hyper-parameter optimization through the AutoRunner or Auto3DSeg module APIs.\n",
    "\n",
    "If you're interested in real-world use cases of Auto3DSeg, you can find more information and tutorials in the [Auto3DSeg Tutorials Folder](https://github.com/Project-MONAI/tutorials/tree/main/auto3dseg/).\n",
    "\n",
    "Feel free to explore and experiment with Auto3DSeg to tackle your own 3D medical image segmentation tasks. Happy exploring!"
   ]
  },
  {
   "cell_type": "markdown",
   "metadata": {
    "id": "bj6ln3hGyAVZ"
   },
   "source": [
    "## Navigation\n",
    "\n",
    "- [01 MONAI transform](./01_getting.ipynb)\n",
    "- [02_end_to_end_pipeline](./02_end_to_end_pipeline.ipynb)\n",
    "- [03_spleen_segment](./03_spleen_segment.ipynb)\n",
    "- [04_Auto3DSeg](./04_Auto3DSeg.ipynb)\n",
    "- [05_Auto3DSeg_hippocampus](./05_Auto3DSeg_hippocampus.ipynb)\n",
    "- [06_digital_pathology_wsi](./06_digital_pathology_wsi.ipynbb)\n",
    "- [07_HoverNet_01_inference](./07_HoverNet_01_inference.ipynb)\n",
    "- [08_HoverNet_02_train](./08_HoverNet_02_train.ipynb)\n",
    "\n",
    "\n",
    "\n",
    "<img src=\"https://github.com/Project-MONAI/MONAIBootcamp2021/raw/2f28b64f814a03703667c8ea18cc84f53d6795e4/day1/monai.png\" width=400>"
   ]
  },
  {
   "cell_type": "code",
   "execution_count": null,
   "metadata": {},
   "outputs": [],
   "source": []
  }
 ],
 "metadata": {
  "accelerator": "GPU",
  "colab": {
   "gpuType": "T4",
   "provenance": []
  },
  "kernelspec": {
   "display_name": "Python 3 (ipykernel)",
   "language": "python",
   "name": "python3"
  },
  "language_info": {
   "codemirror_mode": {
    "name": "ipython",
    "version": 3
   },
   "file_extension": ".py",
   "mimetype": "text/x-python",
   "name": "python",
   "nbconvert_exporter": "python",
   "pygments_lexer": "ipython3",
   "version": "3.8.10"
  },
  "vscode": {
   "interpreter": {
    "hash": "d4d1e4263499bec80672ea0156c357c1ee493ec2b1c70f0acce89fc37c4a6abe"
   }
  }
 },
 "nbformat": 4,
 "nbformat_minor": 4
}
